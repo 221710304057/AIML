{
 "cells": [
  {
   "cell_type": "markdown",
   "metadata": {},
   "source": [
    "### CSE-221710304057-T.Snithika Patel"
   ]
  },
  {
   "cell_type": "markdown",
   "metadata": {},
   "source": [
    "```Copy the contents of a text file into another, printing the reversed version of each input line```"
   ]
  },
  {
   "cell_type": "code",
   "execution_count": 7,
   "metadata": {},
   "outputs": [],
   "source": [
    "with open(\"ss.txt\",\"r\") as f:\n",
    "    with open(\"ss1.txt\",\"w\") as f1:#copying contents\n",
    "        for line in f:\n",
    "            f1.write(line)"
   ]
  },
  {
   "cell_type": "code",
   "execution_count": 8,
   "metadata": {},
   "outputs": [
    {
     "name": "stdout",
     "output_type": "stream",
     "text": [
      "\n",
      "enoyreve olleh\n",
      "\n",
      "ytisrevinu matiG\n",
      "\n",
      "sgnos netsil ot ekil I\n"
     ]
    }
   ],
   "source": [
    " with open(\"ss1.txt\",\"r\") as f1:\n",
    "        for line in f1: #displaying contents in reverse order\n",
    "            print(line[::-1])"
   ]
  },
  {
   "cell_type": "markdown",
   "metadata": {},
   "source": [
    "```Print the contents of a file line by line putting a line number for each line.```"
   ]
  },
  {
   "cell_type": "code",
   "execution_count": 9,
   "metadata": {},
   "outputs": [
    {
     "name": "stdout",
     "output_type": "stream",
     "text": [
      "1 .  hello everyone\n",
      "\n",
      "2 .  Gitam university\n",
      "\n",
      "3 .  I like to listen songs\n",
      "\n"
     ]
    }
   ],
   "source": [
    "\n",
    "with open(\"ss.txt\",\"r\") as f:\n",
    "    i=1\n",
    "    for line in f:\n",
    "        print(i,\". \",line)\n",
    "        i+=1"
   ]
  },
  {
   "cell_type": "markdown",
   "metadata": {},
   "source": [
    "```#Function to find duplicates in lists```"
   ]
  },
  {
   "cell_type": "code",
   "execution_count": 12,
   "metadata": {},
   "outputs": [
    {
     "name": "stdout",
     "output_type": "stream",
     "text": [
      "True\n",
      "[1, 2, 3, 4, 5]\n"
     ]
    }
   ],
   "source": [
    "def duplicate(l):\n",
    "    for i in l:\n",
    "        if(l.count(i)>1):\n",
    "            return True\n",
    "            break\n",
    "        else:\n",
    "            continue\n",
    "    return False\n",
    "def removed(f):\n",
    "    for i in l:\n",
    "        if i not in li:\n",
    "            li.append(i)\n",
    "    return li\n",
    "l = [1,2,3,4,2,5]\n",
    "li= []\n",
    "f = (duplicate(l))\n",
    "print(f)\n",
    "if(f == True):\n",
    "    print(removed(l))"
   ]
  },
  {
   "cell_type": "markdown",
   "metadata": {},
   "source": [
    "```Develop a package for fractions. Develop a module that performs operations on fractions. It should have methods to create fractions, perform operations on two fractions, simplify a fraction, and print a fraction. You should use that package and illustrate those operations.```"
   ]
  },
  {
   "cell_type": "code",
   "execution_count": 6,
   "metadata": {},
   "outputs": [
    {
     "name": "stdout",
     "output_type": "stream",
     "text": [
      "fraction is : 0.5\n",
      "fraction: None\n",
      "Addition is : 1.25\n",
      "addition : None\n",
      "subtraction is : -0.25\n",
      "subtraction None\n",
      "multiplication is : 0.375\n",
      "multiplication : None\n",
      "divison is : 0.6666666666666666\n",
      "divison : None\n"
     ]
    }
   ],
   "source": [
    "import fractions as f\n",
    "print(\"fraction:\",f.fracidis(10,20))\n",
    "print(\"addition :\",f.add(10,20,30,40))\n",
    "print(\"subtraction\",f.sub(10,20,30,40)) #user defined module fraction\n",
    "print(\"multiplication :\",f.mul(10,20,30,40))\n",
    "print(\"divison :\",f.div(10,20,30,40))"
   ]
  },
  {
   "cell_type": "markdown",
   "metadata": {},
   "source": [
    "```A permutation of a list is another list with the same elements, but in a possibly different order. For example, [1,2,1] is a permutation of [2,1,1], but not of [1,2,2]. Write a functionisPermutation (list1, list2): boolthat returns True if its arguments are permutations of each other.```"
   ]
  },
  {
   "cell_type": "code",
   "execution_count": 2,
   "metadata": {},
   "outputs": [
    {
     "name": "stdout",
     "output_type": "stream",
     "text": [
      "enter number of elements:3\n",
      "enter the values of list1:1\n",
      "enter the values of list1:2\n",
      "enter the values of list1:1\n",
      "list1 is: [1, 2, 1]\n",
      "enter the values of list2:1\n",
      "enter the values of list2:1\n",
      "enter the values of list2:2\n",
      "list2 is: [1, 1, 2]\n",
      "True\n"
     ]
    }
   ],
   "source": [
    "def isPermutation(list1,list2):\n",
    "    if sum(list1) == sum(list2):\n",
    "        return True\n",
    "    else:\n",
    "        return False\n",
    "num = int(input(\"enter number of elements:\"))\n",
    "list1 = []\n",
    "list2 = []\n",
    "for i in range(num):\n",
    "    i = int(input(\"enter the values of list1:\"))\n",
    "    list1.append(i)\n",
    "print(\"list1 is:\",str(list1))\n",
    "for i in range(num):\n",
    "    i = int(input(\"enter the values of list2:\"))\n",
    "    list2.append(i)\n",
    "print(\"list2 is:\",str(list2))\n",
    "k = isPermutation(list1,list2)\n",
    "print(k)"
   ]
  },
  {
   "cell_type": "code",
   "execution_count": null,
   "metadata": {},
   "outputs": [],
   "source": []
  },
  {
   "cell_type": "code",
   "execution_count": null,
   "metadata": {},
   "outputs": [],
   "source": []
  }
 ],
 "metadata": {
  "kernelspec": {
   "display_name": "Python 3",
   "language": "python",
   "name": "python3"
  },
  "language_info": {
   "codemirror_mode": {
    "name": "ipython",
    "version": 3
   },
   "file_extension": ".py",
   "mimetype": "text/x-python",
   "name": "python",
   "nbconvert_exporter": "python",
   "pygments_lexer": "ipython3",
   "version": "3.6.4"
  }
 },
 "nbformat": 4,
 "nbformat_minor": 2
}
