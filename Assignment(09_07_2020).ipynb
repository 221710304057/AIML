{
  "nbformat": 4,
  "nbformat_minor": 0,
  "metadata": {
    "colab": {
      "name": "Assignment(09-07-2020).ipynb",
      "provenance": []
    },
    "kernelspec": {
      "name": "python3",
      "display_name": "Python 3"
    }
  },
  "cells": [
    {
      "cell_type": "markdown",
      "metadata": {
        "id": "Wt521d6I3gGN",
        "colab_type": "text"
      },
      "source": [
        "**CSE-221710304057-T.Snithika Patel**"
      ]
    },
    {
      "cell_type": "code",
      "metadata": {
        "id": "cVxsi18_3o2L",
        "colab_type": "code",
        "colab": {
          "base_uri": "https://localhost:8080/",
          "height": 34
        },
        "outputId": "ab804066-b2ee-4bb9-c787-017a43475a49"
      },
      "source": [
        "import numpy as np\n",
        "import tensorflow as tf\n",
        "import tensorflow.keras as keras\n",
        "import pandas as pd\n",
        "from keras.datasets.mnist import load_data\n",
        "import matplotlib.pyplot as plt\n",
        "%matplotlib inline"
      ],
      "execution_count": 1,
      "outputs": [
        {
          "output_type": "stream",
          "text": [
            "Using TensorFlow backend.\n"
          ],
          "name": "stderr"
        }
      ]
    },
    {
      "cell_type": "code",
      "metadata": {
        "id": "Pv_1d-Mw3sit",
        "colab_type": "code",
        "colab": {
          "base_uri": "https://localhost:8080/",
          "height": 51
        },
        "outputId": "f812e007-ae37-41ed-bd47-4703fa11a759"
      },
      "source": [
        "(train_digits,train_labels),(test_digits,test_labels)=load_data()\n",
        "print(train_digits.shape)\n",
        "print(test_digits.shape)"
      ],
      "execution_count": 2,
      "outputs": [
        {
          "output_type": "stream",
          "text": [
            "(60000, 28, 28)\n",
            "(10000, 28, 28)\n"
          ],
          "name": "stdout"
        }
      ]
    },
    {
      "cell_type": "code",
      "metadata": {
        "id": "9DldwGM63yxb",
        "colab_type": "code",
        "colab": {
          "base_uri": "https://localhost:8080/",
          "height": 34
        },
        "outputId": "fae874c3-a9f7-4a08-d892-2912d29cc766"
      },
      "source": [
        "type(train_labels)"
      ],
      "execution_count": 3,
      "outputs": [
        {
          "output_type": "execute_result",
          "data": {
            "text/plain": [
              "numpy.ndarray"
            ]
          },
          "metadata": {
            "tags": []
          },
          "execution_count": 3
        }
      ]
    },
    {
      "cell_type": "code",
      "metadata": {
        "id": "PgA9tPjr32Bx",
        "colab_type": "code",
        "colab": {
          "base_uri": "https://localhost:8080/",
          "height": 221
        },
        "outputId": "ca299bc2-0d68-4e7a-80a5-54153d71bb54"
      },
      "source": [
        "pd.Series(train_labels).value_counts"
      ],
      "execution_count": 4,
      "outputs": [
        {
          "output_type": "execute_result",
          "data": {
            "text/plain": [
              "<bound method IndexOpsMixin.value_counts of 0        5\n",
              "1        0\n",
              "2        4\n",
              "3        1\n",
              "4        9\n",
              "        ..\n",
              "59995    8\n",
              "59996    3\n",
              "59997    5\n",
              "59998    6\n",
              "59999    8\n",
              "Length: 60000, dtype: uint8>"
            ]
          },
          "metadata": {
            "tags": []
          },
          "execution_count": 4
        }
      ]
    },
    {
      "cell_type": "code",
      "metadata": {
        "id": "JzTXr2XQ34om",
        "colab_type": "code",
        "colab": {
          "base_uri": "https://localhost:8080/",
          "height": 221
        },
        "outputId": "96bb4335-26a8-486f-d245-525ceed318a7"
      },
      "source": [
        "pd.Series(test_labels).value_counts"
      ],
      "execution_count": 5,
      "outputs": [
        {
          "output_type": "execute_result",
          "data": {
            "text/plain": [
              "<bound method IndexOpsMixin.value_counts of 0       7\n",
              "1       2\n",
              "2       1\n",
              "3       0\n",
              "4       4\n",
              "       ..\n",
              "9995    2\n",
              "9996    3\n",
              "9997    4\n",
              "9998    5\n",
              "9999    6\n",
              "Length: 10000, dtype: uint8>"
            ]
          },
          "metadata": {
            "tags": []
          },
          "execution_count": 5
        }
      ]
    },
    {
      "cell_type": "code",
      "metadata": {
        "id": "iXZZI_Hi38wl",
        "colab_type": "code",
        "colab": {
          "base_uri": "https://localhost:8080/",
          "height": 282
        },
        "outputId": "0a86ae32-aa3d-4767-983f-fe6f99573fa6"
      },
      "source": [
        "plt.imshow(train_digits[0])"
      ],
      "execution_count": 6,
      "outputs": [
        {
          "output_type": "execute_result",
          "data": {
            "text/plain": [
              "<matplotlib.image.AxesImage at 0x7fc420b7ea90>"
            ]
          },
          "metadata": {
            "tags": []
          },
          "execution_count": 6
        },
        {
          "output_type": "display_data",
          "data": {
            "image/png": "[encoded data removed]",
            "text/plain": [
              "<Figure size 432x288 with 1 Axes>"
            ]
          },
          "metadata": {
            "tags": [],
            "needs_background": "light"
          }
        }
      ]
    },
    {
      "cell_type": "code",
      "metadata": {
        "id": "co-ExTIW4B2H",
        "colab_type": "code",
        "colab": {
          "base_uri": "https://localhost:8080/",
          "height": 51
        },
        "outputId": "7385a9ee-c633-4455-c18c-09428f87a73f"
      },
      "source": [
        "sample=np.random.randint(train_digits.shape[0],size=16)\n",
        "sample"
      ],
      "execution_count": 7,
      "outputs": [
        {
          "output_type": "execute_result",
          "data": {
            "text/plain": [
              "array([22154, 42665,  3326, 21324, 26593, 13378, 28370,     2, 32862,\n",
              "       58634, 33422, 21831,   209,  2293, 15848, 40948])"
            ]
          },
          "metadata": {
            "tags": []
          },
          "execution_count": 7
        }
      ]
    },
    {
      "cell_type": "code",
      "metadata": {
        "id": "jgSEe8lw4Ggv",
        "colab_type": "code",
        "colab": {
          "base_uri": "https://localhost:8080/",
          "height": 917
        },
        "outputId": "6408eb4a-82ea-4bf6-ecd7-8616a3db0915"
      },
      "source": [
        "plt.figure(figsize=(16,16))\n",
        "j=1\n",
        "for i in sample:\n",
        "  plt.subplot(4,4,j)\n",
        "  plt.imshow(train_digits[i])\n",
        "  plt.title(\"Digit:\"+str(train_labels[i]))\n",
        "  plt.axis(\"off\")\n",
        "  j += 1"
      ],
      "execution_count": 8,
      "outputs": [
        {
          "output_type": "display_data",
          "data": {
            "image/png": "[encoded data removed]",
            "text/plain": [
              "<Figure size 1152x1152 with 16 Axes>"
            ]
          },
          "metadata": {
            "tags": [],
            "needs_background": "light"
          }
        }
      ]
    },
    {
      "cell_type": "code",
      "metadata": {
        "id": "DugRsXPW4Jwn",
        "colab_type": "code",
        "colab": {
          "base_uri": "https://localhost:8080/",
          "height": 102
        },
        "outputId": "bab3365a-be32-4300-a841-7a62cfcd22e4"
      },
      "source": [
        "train_digits[0][5:10,22:25]"
      ],
      "execution_count": 9,
      "outputs": [
        {
          "output_type": "execute_result",
          "data": {
            "text/plain": [
              "array([[247, 127,   0],\n",
              "       [195,  64,   0],\n",
              "       [ 39,   0,   0],\n",
              "       [  0,   0,   0],\n",
              "       [  0,   0,   0]], dtype=uint8)"
            ]
          },
          "metadata": {
            "tags": []
          },
          "execution_count": 9
        }
      ]
    },
    {
      "cell_type": "code",
      "metadata": {
        "id": "lJQ1lqUT4Uw0",
        "colab_type": "code",
        "colab": {}
      },
      "source": [
        "train_digits_sc=train_digits/255.0\n",
        "test_digits_sc=test_digits/255.0"
      ],
      "execution_count": 10,
      "outputs": []
    },
    {
      "cell_type": "code",
      "metadata": {
        "id": "yw7EaObj4X1N",
        "colab_type": "code",
        "colab": {
          "base_uri": "https://localhost:8080/",
          "height": 34
        },
        "outputId": "c614a130-4d7e-4680-bbdf-030555ed00b3"
      },
      "source": [
        "from keras.utils import to_categorical\n",
        "train_labels_cat = to_categorical(train_labels)\n",
        "test_labels_cat=to_categorical(test_labels)\n",
        "train_labels_cat[0]"
      ],
      "execution_count": 11,
      "outputs": [
        {
          "output_type": "execute_result",
          "data": {
            "text/plain": [
              "array([0., 0., 0., 0., 0., 1., 0., 0., 0., 0.], dtype=float32)"
            ]
          },
          "metadata": {
            "tags": []
          },
          "execution_count": 11
        }
      ]
    },
    {
      "cell_type": "code",
      "metadata": {
        "id": "jl1aqPum4aml",
        "colab_type": "code",
        "colab": {
          "base_uri": "https://localhost:8080/",
          "height": 34
        },
        "outputId": "acc61f78-a9fe-45c5-d2be-095bb6d875b9"
      },
      "source": [
        "test_labels_cat = to_categorical(test_labels)\n",
        "test_labels_cat[9]"
      ],
      "execution_count": 12,
      "outputs": [
        {
          "output_type": "execute_result",
          "data": {
            "text/plain": [
              "array([0., 0., 0., 0., 0., 0., 0., 0., 0., 1.], dtype=float32)"
            ]
          },
          "metadata": {
            "tags": []
          },
          "execution_count": 12
        }
      ]
    },
    {
      "cell_type": "code",
      "metadata": {
        "id": "lV2APKqO4d31",
        "colab_type": "code",
        "colab": {
          "base_uri": "https://localhost:8080/",
          "height": 85
        },
        "outputId": "341e4ae0-f606-4200-9fc1-ee0e31a86697"
      },
      "source": [
        "from sklearn.model_selection import train_test_split\n",
        "x_train,x_val,y_train,y_val=train_test_split(train_digits_sc,train_labels_cat,test_size=0.1,random_state=32)\n",
        "print(x_train.shape)\n",
        "print(x_val.shape)\n",
        "print(y_train.shape)\n",
        "print(y_val.shape)"
      ],
      "execution_count": 13,
      "outputs": [
        {
          "output_type": "stream",
          "text": [
            "(54000, 28, 28)\n",
            "(6000, 28, 28)\n",
            "(54000, 10)\n",
            "(6000, 10)\n"
          ],
          "name": "stdout"
        }
      ]
    },
    {
      "cell_type": "markdown",
      "metadata": {
        "id": "JUDl0KRg4myl",
        "colab_type": "text"
      },
      "source": [
        "Model 1"
      ]
    },
    {
      "cell_type": "code",
      "metadata": {
        "id": "roYGYhZ14htc",
        "colab_type": "code",
        "colab": {
          "base_uri": "https://localhost:8080/",
          "height": 357
        },
        "outputId": "a4c28ed7-e3db-490c-93b6-f5468cd7a242"
      },
      "source": [
        "from keras.models import Sequential\n",
        "from keras.layers import Dense,Flatten\n",
        "\n",
        "model = Sequential()\n",
        "# first layer we need to mention the input shape\n",
        "\n",
        "model.add(Flatten(input_shape=(28,28)))\n",
        "## 784 pixel values as input to this Dense. 128 Neurons in the layers\n",
        "model.add(Dense(128,activation='relu'))# 784 * 128+128\n",
        "model.add(Dense(128,activation='relu'))# \n",
        "model.add(Dense(64,activation='relu'))\n",
        "model.add(Dense(256,activation='relu'))\n",
        "#Final layer\n",
        "model.add(Dense(10,activation='softmax'))\n",
        "model.summary()"
      ],
      "execution_count": 14,
      "outputs": [
        {
          "output_type": "stream",
          "text": [
            "Model: \"sequential_1\"\n",
            "_________________________________________________________________\n",
            "Layer (type)                 Output Shape              Param #   \n",
            "=================================================================\n",
            "flatten_1 (Flatten)          (None, 784)               0         \n",
            "_________________________________________________________________\n",
            "dense_1 (Dense)              (None, 128)               100480    \n",
            "_________________________________________________________________\n",
            "dense_2 (Dense)              (None, 128)               16512     \n",
            "_________________________________________________________________\n",
            "dense_3 (Dense)              (None, 64)                8256      \n",
            "_________________________________________________________________\n",
            "dense_4 (Dense)              (None, 256)               16640     \n",
            "_________________________________________________________________\n",
            "dense_5 (Dense)              (None, 10)                2570      \n",
            "=================================================================\n",
            "Total params: 144,458\n",
            "Trainable params: 144,458\n",
            "Non-trainable params: 0\n",
            "_________________________________________________________________\n"
          ],
          "name": "stdout"
        }
      ]
    },
    {
      "cell_type": "code",
      "metadata": {
        "id": "BVL-3nz_4smQ",
        "colab_type": "code",
        "colab": {
          "base_uri": "https://localhost:8080/",
          "height": 204
        },
        "outputId": "03d7f1e4-ee07-4f99-baa9-0c78ae0d27d3"
      },
      "source": [
        "model.compile(optimizer='adam',loss=tf.keras.losses.CategoricalCrossentropy(),metrics=['accuracy'])\n",
        "history=model.fit(x=x_train,y=y_train,epochs=5,validation_data=(x_val,y_val),batch_size=32)"
      ],
      "execution_count": 15,
      "outputs": [
        {
          "output_type": "stream",
          "text": [
            "Train on 54000 samples, validate on 6000 samples\n",
            "Epoch 1/5\n",
            "54000/54000 [==============================] - 6s 114us/step - loss: 0.2474 - accuracy: 0.9244 - val_loss: 0.1306 - val_accuracy: 0.9637\n",
            "Epoch 2/5\n",
            "54000/54000 [==============================] - 6s 109us/step - loss: 0.1127 - accuracy: 0.9651 - val_loss: 0.1117 - val_accuracy: 0.9673\n",
            "Epoch 3/5\n",
            "54000/54000 [==============================] - 6s 108us/step - loss: 0.0801 - accuracy: 0.9753 - val_loss: 0.1206 - val_accuracy: 0.9655\n",
            "Epoch 4/5\n",
            "54000/54000 [==============================] - 6s 106us/step - loss: 0.0650 - accuracy: 0.9794 - val_loss: 0.1041 - val_accuracy: 0.9710\n",
            "Epoch 5/5\n",
            "54000/54000 [==============================] - 6s 106us/step - loss: 0.0530 - accuracy: 0.9830 - val_loss: 0.0961 - val_accuracy: 0.9742\n"
          ],
          "name": "stdout"
        }
      ]
    },
    {
      "cell_type": "code",
      "metadata": {
        "id": "LOJ5Upss4xOH",
        "colab_type": "code",
        "colab": {
          "base_uri": "https://localhost:8080/",
          "height": 51
        },
        "outputId": "82f36040-ff52-481a-a3d2-11f35ec5edff"
      },
      "source": [
        "model.evaluate(test_digits_sc,test_labels_cat)"
      ],
      "execution_count": 16,
      "outputs": [
        {
          "output_type": "stream",
          "text": [
            "10000/10000 [==============================] - 0s 30us/step\n"
          ],
          "name": "stdout"
        },
        {
          "output_type": "execute_result",
          "data": {
            "text/plain": [
              "[0.08284994839697028, 0.9767000079154968]"
            ]
          },
          "metadata": {
            "tags": []
          },
          "execution_count": 16
        }
      ]
    },
    {
      "cell_type": "code",
      "metadata": {
        "id": "Tb08lu5u5CnO",
        "colab_type": "code",
        "colab": {
          "base_uri": "https://localhost:8080/",
          "height": 68
        },
        "outputId": "d493cd6c-1dbc-408a-cac4-1a8dab72f6a3"
      },
      "source": [
        "print(test_digits_sc.shape)\n",
        "print(test_digits_sc[0].shape)\n",
        "print(np.expand_dims(test_digits_sc[0],axis=0).shape)"
      ],
      "execution_count": 17,
      "outputs": [
        {
          "output_type": "stream",
          "text": [
            "(10000, 28, 28)\n",
            "(28, 28)\n",
            "(1, 28, 28)\n"
          ],
          "name": "stdout"
        }
      ]
    },
    {
      "cell_type": "code",
      "metadata": {
        "id": "QH7HbO0H5MbN",
        "colab_type": "code",
        "colab": {
          "base_uri": "https://localhost:8080/",
          "height": 68
        },
        "outputId": "c937900c-e569-45a9-b11d-3752cb6a6bcc"
      },
      "source": [
        "model.predict(np.expand_dims(test_digits_sc[0],axis=0))"
      ],
      "execution_count": 18,
      "outputs": [
        {
          "output_type": "execute_result",
          "data": {
            "text/plain": [
              "array([[1.4695181e-08, 4.0090708e-06, 3.2524040e-05, 1.7948853e-04,\n",
              "        1.4501674e-07, 3.3973362e-07, 3.4808162e-10, 9.9955696e-01,\n",
              "        4.2292127e-06, 2.2242962e-04]], dtype=float32)"
            ]
          },
          "metadata": {
            "tags": []
          },
          "execution_count": 18
        }
      ]
    },
    {
      "cell_type": "code",
      "metadata": {
        "id": "Dbj07lIc5QrI",
        "colab_type": "code",
        "colab": {
          "base_uri": "https://localhost:8080/",
          "height": 527
        },
        "outputId": "3a795b21-be98-4284-cc62-740762ef046a"
      },
      "source": [
        "model.predict(test_digits_sc[:10])"
      ],
      "execution_count": 19,
      "outputs": [
        {
          "output_type": "execute_result",
          "data": {
            "text/plain": [
              "array([[1.46952086e-08, 4.00908220e-06, 3.25241308e-05, 1.79489041e-04,\n",
              "        1.45016870e-07, 3.39734243e-07, 3.48082951e-10, 9.99556959e-01,\n",
              "        4.22922449e-06, 2.22429837e-04],\n",
              "       [2.30647128e-08, 1.11433947e-08, 9.99997020e-01, 8.53131610e-07,\n",
              "        9.60971969e-10, 2.84684887e-10, 3.26016592e-09, 2.40097449e-07,\n",
              "        1.85311796e-06, 1.94598955e-11],\n",
              "       [3.25233918e-06, 9.98946726e-01, 3.09896481e-04, 1.44677767e-06,\n",
              "        6.43450985e-05, 2.09917234e-05, 5.20315778e-04, 2.47626886e-05,\n",
              "        1.01674872e-04, 6.68946268e-06],\n",
              "       [9.98523295e-01, 2.06043353e-07, 2.31885017e-04, 3.85638159e-05,\n",
              "        2.97769384e-05, 3.32357813e-05, 4.74970002e-05, 4.53808798e-06,\n",
              "        4.64083678e-05, 1.04461971e-03],\n",
              "       [2.65392345e-07, 2.47789158e-05, 1.43039404e-06, 6.42231157e-08,\n",
              "        9.99272525e-01, 2.93267107e-07, 4.76866262e-06, 1.41051089e-06,\n",
              "        8.03890259e-07, 6.93676178e-04],\n",
              "       [5.92084177e-08, 9.99956369e-01, 1.16556666e-05, 2.01211492e-08,\n",
              "        5.43432770e-06, 1.49457193e-07, 7.79125821e-06, 1.45221975e-05,\n",
              "        3.35460777e-06, 7.54149596e-07],\n",
              "       [9.28228019e-06, 8.80552252e-05, 1.03102766e-05, 3.69477584e-06,\n",
              "        9.91734505e-01, 1.50601927e-05, 4.39019313e-05, 6.09583658e-05,\n",
              "        5.28724515e-04, 7.50541594e-03],\n",
              "       [1.36776971e-05, 1.09022676e-06, 1.92863736e-04, 1.28516719e-01,\n",
              "        1.49796097e-05, 7.00398674e-03, 7.19748030e-08, 1.08825210e-04,\n",
              "        2.19165324e-03, 8.61956239e-01],\n",
              "       [9.45193278e-06, 9.40451130e-08, 1.63092793e-07, 4.78123693e-05,\n",
              "        4.71435243e-07, 9.45245206e-01, 4.84489873e-02, 5.26298045e-08,\n",
              "        6.13961043e-03, 1.08023189e-04],\n",
              "       [4.84923257e-09, 4.59560766e-07, 2.70694525e-08, 1.23144684e-06,\n",
              "        2.92532379e-04, 1.25777850e-08, 8.56882013e-12, 9.44056155e-05,\n",
              "        4.12846674e-07, 9.99610960e-01]], dtype=float32)"
            ]
          },
          "metadata": {
            "tags": []
          },
          "execution_count": 19
        }
      ]
    },
    {
      "cell_type": "code",
      "metadata": {
        "id": "919X-NwN5Xpp",
        "colab_type": "code",
        "colab": {
          "base_uri": "https://localhost:8080/",
          "height": 34
        },
        "outputId": "b95e79c8-f291-47cf-f69a-4754b3a33445"
      },
      "source": [
        "model.predict_classes(np.expand_dims(test_digits_sc[0],axis=0))"
      ],
      "execution_count": 20,
      "outputs": [
        {
          "output_type": "execute_result",
          "data": {
            "text/plain": [
              "array([7])"
            ]
          },
          "metadata": {
            "tags": []
          },
          "execution_count": 20
        }
      ]
    },
    {
      "cell_type": "code",
      "metadata": {
        "id": "9aOB4yTl5dv3",
        "colab_type": "code",
        "colab": {
          "base_uri": "https://localhost:8080/",
          "height": 68
        },
        "outputId": "1c5615b0-2b5e-4e48-cc32-7a75459d626e"
      },
      "source": [
        "model.predict_proba(np.expand_dims(test_digits_sc[0],axis=0))"
      ],
      "execution_count": 21,
      "outputs": [
        {
          "output_type": "execute_result",
          "data": {
            "text/plain": [
              "array([[1.4695181e-08, 4.0090708e-06, 3.2524040e-05, 1.7948853e-04,\n",
              "        1.4501674e-07, 3.3973362e-07, 3.4808162e-10, 9.9955696e-01,\n",
              "        4.2292127e-06, 2.2242962e-04]], dtype=float32)"
            ]
          },
          "metadata": {
            "tags": []
          },
          "execution_count": 21
        }
      ]
    },
    {
      "cell_type": "code",
      "metadata": {
        "id": "6EMQi1775yzb",
        "colab_type": "code",
        "colab": {
          "base_uri": "https://localhost:8080/",
          "height": 289
        },
        "outputId": "aa5bd95f-6137-4ddb-8356-318b888de805"
      },
      "source": [
        "history.history"
      ],
      "execution_count": 22,
      "outputs": [
        {
          "output_type": "execute_result",
          "data": {
            "text/plain": [
              "{'accuracy': [0.92444444, 0.96507406, 0.97525924, 0.97944444, 0.9830185],\n",
              " 'loss': [0.24741093381908205,\n",
              "  0.11274067925013326,\n",
              "  0.08008100585239353,\n",
              "  0.06503033189754934,\n",
              "  0.05304406244648379],\n",
              " 'val_accuracy': [0.9636666774749756,\n",
              "  0.9673333168029785,\n",
              "  0.965499997138977,\n",
              "  0.9710000157356262,\n",
              "  0.9741666913032532],\n",
              " 'val_loss': [0.1306381452033917,\n",
              "  0.11173898075769345,\n",
              "  0.1206223667152226,\n",
              "  0.10414025109726936,\n",
              "  0.09606869810260832]}"
            ]
          },
          "metadata": {
            "tags": []
          },
          "execution_count": 22
        }
      ]
    },
    {
      "cell_type": "code",
      "metadata": {
        "id": "uvAlOPc654UH",
        "colab_type": "code",
        "colab": {
          "base_uri": "https://localhost:8080/",
          "height": 282
        },
        "outputId": "3b51ca98-a018-4208-92c2-6742eb30249d"
      },
      "source": [
        "plt.plot(history.history['accuracy'])\n",
        "plt.plot(history.history['val_accuracy'])"
      ],
      "execution_count": 23,
      "outputs": [
        {
          "output_type": "execute_result",
          "data": {
            "text/plain": [
              "[<matplotlib.lines.Line2D at 0x7fc42065f518>]"
            ]
          },
          "metadata": {
            "tags": []
          },
          "execution_count": 23
        },
        {
          "output_type": "display_data",
          "data": {
            "image/png": "[encoded data removed]",
            "text/plain": [
              "<Figure size 432x288 with 1 Axes>"
            ]
          },
          "metadata": {
            "tags": [],
            "needs_background": "light"
          }
        }
      ]
    },
    {
      "cell_type": "markdown",
      "metadata": {
        "id": "9OxsKBwW6JI5",
        "colab_type": "text"
      },
      "source": [
        "Model 2"
      ]
    },
    {
      "cell_type": "code",
      "metadata": {
        "id": "Wyn0kFN259vX",
        "colab_type": "code",
        "colab": {
          "base_uri": "https://localhost:8080/",
          "height": 357
        },
        "outputId": "e49414b8-017f-4893-8683-f687d192c5b4"
      },
      "source": [
        "model1 = Sequential()\n",
        "# first layer we need to mention the input shape\n",
        "\n",
        "model1.add(Flatten(input_shape=(28,28)))\n",
        "## 784 pixel values as input to this Dense. 128 Neurons in the layers\n",
        "model1.add(Dense(128,activation='relu'))# 784 * 128+128\n",
        "model1.add(Dense(256,activation='relu'))# \n",
        "model1.add(Dense(64,activation='relu'))\n",
        "model1.add(Dense(256,activation='relu'))\n",
        "#Final layer\n",
        "model1.add(Dense(10,activation='sigmoid'))\n",
        "model1.summary()"
      ],
      "execution_count": 24,
      "outputs": [
        {
          "output_type": "stream",
          "text": [
            "Model: \"sequential_2\"\n",
            "_________________________________________________________________\n",
            "Layer (type)                 Output Shape              Param #   \n",
            "=================================================================\n",
            "flatten_2 (Flatten)          (None, 784)               0         \n",
            "_________________________________________________________________\n",
            "dense_6 (Dense)              (None, 128)               100480    \n",
            "_________________________________________________________________\n",
            "dense_7 (Dense)              (None, 256)               33024     \n",
            "_________________________________________________________________\n",
            "dense_8 (Dense)              (None, 64)                16448     \n",
            "_________________________________________________________________\n",
            "dense_9 (Dense)              (None, 256)               16640     \n",
            "_________________________________________________________________\n",
            "dense_10 (Dense)             (None, 10)                2570      \n",
            "=================================================================\n",
            "Total params: 169,162\n",
            "Trainable params: 169,162\n",
            "Non-trainable params: 0\n",
            "_________________________________________________________________\n"
          ],
          "name": "stdout"
        }
      ]
    },
    {
      "cell_type": "code",
      "metadata": {
        "id": "m5OTwdPy6P_-",
        "colab_type": "code",
        "colab": {
          "base_uri": "https://localhost:8080/",
          "height": 204
        },
        "outputId": "6b1b6bb7-33fe-4d43-a1a3-ee980379c25d"
      },
      "source": [
        "model1.compile(optimizer='adam',loss=tf.keras.losses.CategoricalCrossentropy(),metrics=['accuracy'])\n",
        "history=model1.fit(x=x_train,y=y_train,epochs=5,validation_data=(x_val,y_val),batch_size=32)"
      ],
      "execution_count": 25,
      "outputs": [
        {
          "output_type": "stream",
          "text": [
            "Train on 54000 samples, validate on 6000 samples\n",
            "Epoch 1/5\n",
            "54000/54000 [==============================] - 7s 121us/step - loss: 0.2574 - accuracy: 0.9205 - val_loss: 0.1447 - val_accuracy: 0.9597\n",
            "Epoch 2/5\n",
            "54000/54000 [==============================] - 7s 124us/step - loss: 0.1100 - accuracy: 0.9664 - val_loss: 0.1347 - val_accuracy: 0.9650\n",
            "Epoch 3/5\n",
            "54000/54000 [==============================] - 6s 120us/step - loss: 0.0810 - accuracy: 0.9750 - val_loss: 0.1088 - val_accuracy: 0.9703\n",
            "Epoch 4/5\n",
            "54000/54000 [==============================] - 7s 123us/step - loss: 0.0631 - accuracy: 0.9799 - val_loss: 0.0987 - val_accuracy: 0.9750\n",
            "Epoch 5/5\n",
            "54000/54000 [==============================] - 7s 129us/step - loss: 0.0508 - accuracy: 0.9843 - val_loss: 0.0972 - val_accuracy: 0.9748\n"
          ],
          "name": "stdout"
        }
      ]
    },
    {
      "cell_type": "code",
      "metadata": {
        "id": "8E0WJnQa6Wnu",
        "colab_type": "code",
        "colab": {
          "base_uri": "https://localhost:8080/",
          "height": 51
        },
        "outputId": "a5763f16-565a-424f-efa4-abc862e9da37"
      },
      "source": [
        "model1.evaluate(test_digits_sc,test_labels_cat)"
      ],
      "execution_count": 26,
      "outputs": [
        {
          "output_type": "stream",
          "text": [
            "10000/10000 [==============================] - 0s 29us/step\n"
          ],
          "name": "stdout"
        },
        {
          "output_type": "execute_result",
          "data": {
            "text/plain": [
              "[0.08259001769350142, 0.9779999852180481]"
            ]
          },
          "metadata": {
            "tags": []
          },
          "execution_count": 26
        }
      ]
    },
    {
      "cell_type": "code",
      "metadata": {
        "id": "hpO3vcSN6hEI",
        "colab_type": "code",
        "colab": {
          "base_uri": "https://localhost:8080/",
          "height": 68
        },
        "outputId": "9acf0f43-d144-4c08-a539-903f0fedf676"
      },
      "source": [
        "print(test_digits_sc.shape)\n",
        "print(test_digits_sc[0].shape)\n",
        "print(np.expand_dims(test_digits_sc[0],axis=0).shape)"
      ],
      "execution_count": 27,
      "outputs": [
        {
          "output_type": "stream",
          "text": [
            "(10000, 28, 28)\n",
            "(28, 28)\n",
            "(1, 28, 28)\n"
          ],
          "name": "stdout"
        }
      ]
    },
    {
      "cell_type": "code",
      "metadata": {
        "id": "yO1OM7ED6lLD",
        "colab_type": "code",
        "colab": {
          "base_uri": "https://localhost:8080/",
          "height": 68
        },
        "outputId": "5cef866a-4948-4340-c791-0325ff71f0b7"
      },
      "source": [
        "model1.predict(np.expand_dims(test_digits_sc[0],axis=0))"
      ],
      "execution_count": 28,
      "outputs": [
        {
          "output_type": "execute_result",
          "data": {
            "text/plain": [
              "array([[1.3101516e-07, 3.5045196e-07, 4.6717923e-06, 1.7447202e-05,\n",
              "        1.4145212e-06, 5.1498752e-09, 2.0036991e-13, 9.9957317e-01,\n",
              "        5.8719439e-07, 1.1093782e-04]], dtype=float32)"
            ]
          },
          "metadata": {
            "tags": []
          },
          "execution_count": 28
        }
      ]
    },
    {
      "cell_type": "code",
      "metadata": {
        "id": "f69n0q-p6qpA",
        "colab_type": "code",
        "colab": {
          "base_uri": "https://localhost:8080/",
          "height": 527
        },
        "outputId": "7848e08b-5f73-4752-ac46-6ca7069ff127"
      },
      "source": [
        "model1.predict(test_digits_sc[:10])"
      ],
      "execution_count": 29,
      "outputs": [
        {
          "output_type": "execute_result",
          "data": {
            "text/plain": [
              "array([[1.3101528e-07, 3.5045196e-07, 4.6717660e-06, 1.7447186e-05,\n",
              "        1.4145253e-06, 5.1499049e-09, 2.0037031e-13, 9.9957311e-01,\n",
              "        5.8719382e-07, 1.1093782e-04],\n",
              "       [4.4254531e-07, 1.1825030e-07, 9.9985516e-01, 8.8893703e-06,\n",
              "        1.3175347e-06, 7.8076465e-07, 1.4952928e-07, 1.0012112e-05,\n",
              "        3.0842523e-06, 3.1094118e-08],\n",
              "       [2.1809563e-09, 9.9946356e-01, 3.6209822e-04, 2.9602638e-06,\n",
              "        2.0136752e-06, 9.6356653e-06, 1.9446015e-04, 3.5147215e-05,\n",
              "        2.2283196e-04, 7.8137248e-07],\n",
              "       [9.9975199e-01, 2.1490827e-08, 4.0627441e-05, 1.3452768e-04,\n",
              "        4.5911045e-05, 5.1818886e-05, 1.7401671e-05, 6.3879224e-06,\n",
              "        2.4872875e-06, 1.7404556e-04],\n",
              "       [3.3314768e-06, 1.4491889e-06, 2.7910719e-05, 1.0945985e-07,\n",
              "        9.9988127e-01, 6.5464491e-07, 4.0209990e-05, 1.2280055e-05,\n",
              "        7.8203338e-06, 1.0148306e-04],\n",
              "       [2.9290137e-10, 9.9981624e-01, 8.0954005e-06, 2.4986815e-07,\n",
              "        1.0322541e-06, 4.1193957e-08, 8.9341856e-06, 4.2203090e-05,\n",
              "        7.0891474e-05, 2.5722761e-07],\n",
              "       [1.3549327e-06, 2.0287198e-06, 2.9140676e-05, 1.3341554e-06,\n",
              "        9.9340653e-01, 3.7083686e-05, 2.5724994e-05, 2.2245553e-05,\n",
              "        2.6651323e-03, 3.5780668e-04],\n",
              "       [3.4475001e-05, 1.0102419e-06, 1.7246604e-04, 2.0274818e-03,\n",
              "        5.5491902e-05, 3.3685283e-05, 3.7158824e-08, 8.8748011e-06,\n",
              "        4.6492340e-05, 9.8879331e-01],\n",
              "       [8.4031937e-09, 8.1435667e-09, 1.1661851e-08, 1.7543549e-06,\n",
              "        2.4181945e-06, 9.9175853e-01, 3.9001228e-05, 3.8147263e-08,\n",
              "        2.1573901e-04, 1.6015768e-04],\n",
              "       [8.4079232e-09, 2.9569016e-09, 4.0957978e-08, 8.4524345e-08,\n",
              "        9.9169938e-07, 1.0272729e-10, 9.3532509e-14, 3.8054876e-07,\n",
              "        2.8993131e-08, 9.9909914e-01]], dtype=float32)"
            ]
          },
          "metadata": {
            "tags": []
          },
          "execution_count": 29
        }
      ]
    },
    {
      "cell_type": "code",
      "metadata": {
        "id": "6JHVXDXW8IYa",
        "colab_type": "code",
        "colab": {
          "base_uri": "https://localhost:8080/",
          "height": 34
        },
        "outputId": "a77e8cbc-7127-466d-e271-5f056ca0bdc4"
      },
      "source": [
        "model1.predict_classes(np.expand_dims(test_digits_sc[0],axis=0))"
      ],
      "execution_count": 30,
      "outputs": [
        {
          "output_type": "execute_result",
          "data": {
            "text/plain": [
              "array([7])"
            ]
          },
          "metadata": {
            "tags": []
          },
          "execution_count": 30
        }
      ]
    },
    {
      "cell_type": "code",
      "metadata": {
        "id": "YDoni-748MTU",
        "colab_type": "code",
        "colab": {
          "base_uri": "https://localhost:8080/",
          "height": 68
        },
        "outputId": "0aff61ae-8787-4433-ee11-6c3548992e9b"
      },
      "source": [
        "model1.predict_proba(np.expand_dims(test_digits_sc[0],axis=0))"
      ],
      "execution_count": 31,
      "outputs": [
        {
          "output_type": "execute_result",
          "data": {
            "text/plain": [
              "array([[1.3101516e-07, 3.5045196e-07, 4.6717923e-06, 1.7447202e-05,\n",
              "        1.4145212e-06, 5.1498752e-09, 2.0036991e-13, 9.9957317e-01,\n",
              "        5.8719439e-07, 1.1093782e-04]], dtype=float32)"
            ]
          },
          "metadata": {
            "tags": []
          },
          "execution_count": 31
        }
      ]
    },
    {
      "cell_type": "code",
      "metadata": {
        "id": "OROf77Rr8OzS",
        "colab_type": "code",
        "colab": {
          "base_uri": "https://localhost:8080/",
          "height": 289
        },
        "outputId": "2a376485-0bd6-44c7-afb1-625e6cd30105"
      },
      "source": [
        "history.history"
      ],
      "execution_count": 32,
      "outputs": [
        {
          "output_type": "execute_result",
          "data": {
            "text/plain": [
              "{'accuracy': [0.9205185, 0.96635187, 0.9750185, 0.97992593, 0.98433334],\n",
              " 'loss': [0.2574165452580761,\n",
              "  0.10997969186864794,\n",
              "  0.08096355000724671,\n",
              "  0.06314206538833592,\n",
              "  0.050781626388965245],\n",
              " 'val_accuracy': [0.9596666693687439,\n",
              "  0.9649999737739563,\n",
              "  0.9703333377838135,\n",
              "  0.9750000238418579,\n",
              "  0.9748333096504211],\n",
              " 'val_loss': [0.1446960342377424,\n",
              "  0.13466085685168702,\n",
              "  0.1088065585847944,\n",
              "  0.09865366327452163,\n",
              "  0.0971526457608367]}"
            ]
          },
          "metadata": {
            "tags": []
          },
          "execution_count": 32
        }
      ]
    },
    {
      "cell_type": "code",
      "metadata": {
        "id": "xRuUQprK8Rjn",
        "colab_type": "code",
        "colab": {
          "base_uri": "https://localhost:8080/",
          "height": 282
        },
        "outputId": "8e6d7baa-1fb2-45ac-cdcf-ecd4d4d5b33a"
      },
      "source": [
        "plt.plot(history.history['accuracy'])\n",
        "plt.plot(history.history['val_accuracy'])"
      ],
      "execution_count": 33,
      "outputs": [
        {
          "output_type": "execute_result",
          "data": {
            "text/plain": [
              "[<matplotlib.lines.Line2D at 0x7fc42022b780>]"
            ]
          },
          "metadata": {
            "tags": []
          },
          "execution_count": 33
        },
        {
          "output_type": "display_data",
          "data": {
            "image/png": "[encoded data removed]",
            "text/plain": [
              "<Figure size 432x288 with 1 Axes>"
            ]
          },
          "metadata": {
            "tags": [],
            "needs_background": "light"
          }
        }
      ]
    },
    {
      "cell_type": "markdown",
      "metadata": {
        "id": "aG92xPP-8c2j",
        "colab_type": "text"
      },
      "source": [
        "- The accuarcy and Val_Accuracy of the model 1 is :[0.10071307541152345, 0.9724000096321106]\n",
        "- The accuarcy andVal_Accuracy of the model 2 is :[0.10321083835801109, 0.9724000096321106]\n",
        "- Hence model 2 is best than model 1"
      ]
    }
  ]
}