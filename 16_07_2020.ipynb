{
  "nbformat": 4,
  "nbformat_minor": 0,
  "metadata": {
    "colab": {
      "name": "16-07-2020.ipynb",
      "provenance": [],
      "toc_visible": true
    },
    "kernelspec": {
      "name": "python3",
      "display_name": "Python 3"
    }
  },
  "cells": [
    {
      "cell_type": "code",
      "metadata": {
        "id": "i870u2yCQ_bh",
        "colab_type": "code",
        "colab": {
          "base_uri": "https://localhost:8080/",
          "height": 35
        },
        "outputId": "73c1f452-b4cc-4ef9-a76b-af494711d8cc"
      },
      "source": [
        "# all_stocks_5yr.csv\n",
        "import pandas as pd\n",
        "data = pd.read_csv('/all_stocks_5yr.csv')\n",
        "data.shape"
      ],
      "execution_count": 2,
      "outputs": [
        {
          "output_type": "execute_result",
          "data": {
            "text/plain": [
              "(619040, 7)"
            ]
          },
          "metadata": {
            "tags": []
          },
          "execution_count": 2
        }
      ]
    },
    {
      "cell_type": "code",
      "metadata": {
        "id": "csfWn363RWXN",
        "colab_type": "code",
        "colab": {
          "base_uri": "https://localhost:8080/",
          "height": 200
        },
        "outputId": "60956d2c-8594-419f-cb85-d4640ca1d22b"
      },
      "source": [
        "# Top Five rows\n",
        "data.head()"
      ],
      "execution_count": 3,
      "outputs": [
        {
          "output_type": "execute_result",
          "data": {
            "text/html": [
              "<div>\n",
              "<style scoped>\n",
              "    .dataframe tbody tr th:only-of-type {\n",
              "        vertical-align: middle;\n",
              "    }\n",
              "\n",
              "    .dataframe tbody tr th {\n",
              "        vertical-align: top;\n",
              "    }\n",
              "\n",
              "    .dataframe thead th {\n",
              "        text-align: right;\n",
              "    }\n",
              "</style>\n",
              "<table border=\"1\" class=\"dataframe\">\n",
              "  <thead>\n",
              "    <tr style=\"text-align: right;\">\n",
              "      <th></th>\n",
              "      <th>date</th>\n",
              "      <th>open</th>\n",
              "      <th>high</th>\n",
              "      <th>low</th>\n",
              "      <th>close</th>\n",
              "      <th>volume</th>\n",
              "      <th>Name</th>\n",
              "    </tr>\n",
              "  </thead>\n",
              "  <tbody>\n",
              "    <tr>\n",
              "      <th>0</th>\n",
              "      <td>2013-02-08</td>\n",
              "      <td>15.07</td>\n",
              "      <td>15.12</td>\n",
              "      <td>14.63</td>\n",
              "      <td>14.75</td>\n",
              "      <td>8407500</td>\n",
              "      <td>AAL</td>\n",
              "    </tr>\n",
              "    <tr>\n",
              "      <th>1</th>\n",
              "      <td>2013-02-11</td>\n",
              "      <td>14.89</td>\n",
              "      <td>15.01</td>\n",
              "      <td>14.26</td>\n",
              "      <td>14.46</td>\n",
              "      <td>8882000</td>\n",
              "      <td>AAL</td>\n",
              "    </tr>\n",
              "    <tr>\n",
              "      <th>2</th>\n",
              "      <td>2013-02-12</td>\n",
              "      <td>14.45</td>\n",
              "      <td>14.51</td>\n",
              "      <td>14.10</td>\n",
              "      <td>14.27</td>\n",
              "      <td>8126000</td>\n",
              "      <td>AAL</td>\n",
              "    </tr>\n",
              "    <tr>\n",
              "      <th>3</th>\n",
              "      <td>2013-02-13</td>\n",
              "      <td>14.30</td>\n",
              "      <td>14.94</td>\n",
              "      <td>14.25</td>\n",
              "      <td>14.66</td>\n",
              "      <td>10259500</td>\n",
              "      <td>AAL</td>\n",
              "    </tr>\n",
              "    <tr>\n",
              "      <th>4</th>\n",
              "      <td>2013-02-14</td>\n",
              "      <td>14.94</td>\n",
              "      <td>14.96</td>\n",
              "      <td>13.16</td>\n",
              "      <td>13.99</td>\n",
              "      <td>31879900</td>\n",
              "      <td>AAL</td>\n",
              "    </tr>\n",
              "  </tbody>\n",
              "</table>\n",
              "</div>"
            ],
            "text/plain": [
              "         date   open   high    low  close    volume Name\n",
              "0  2013-02-08  15.07  15.12  14.63  14.75   8407500  AAL\n",
              "1  2013-02-11  14.89  15.01  14.26  14.46   8882000  AAL\n",
              "2  2013-02-12  14.45  14.51  14.10  14.27   8126000  AAL\n",
              "3  2013-02-13  14.30  14.94  14.25  14.66  10259500  AAL\n",
              "4  2013-02-14  14.94  14.96  13.16  13.99  31879900  AAL"
            ]
          },
          "metadata": {
            "tags": []
          },
          "execution_count": 3
        }
      ]
    },
    {
      "cell_type": "code",
      "metadata": {
        "id": "9uGP4wafSS0F",
        "colab_type": "code",
        "colab": {
          "base_uri": "https://localhost:8080/",
          "height": 35
        },
        "outputId": "8952d6e9-04e2-4eb7-d00e-004cfff91095"
      },
      "source": [
        "data.columns"
      ],
      "execution_count": 4,
      "outputs": [
        {
          "output_type": "execute_result",
          "data": {
            "text/plain": [
              "Index(['date', 'open', 'high', 'low', 'close', 'volume', 'Name'], dtype='object')"
            ]
          },
          "metadata": {
            "tags": []
          },
          "execution_count": 4
        }
      ]
    },
    {
      "cell_type": "code",
      "metadata": {
        "id": "efTHKYawSU-D",
        "colab_type": "code",
        "colab": {
          "base_uri": "https://localhost:8080/",
          "height": 35
        },
        "outputId": "7a415127-d222-4bef-cf53-cecad3f918d9"
      },
      "source": [
        "### How many company's data we have here?\n",
        "data.Name.nunique()"
      ],
      "execution_count": 5,
      "outputs": [
        {
          "output_type": "execute_result",
          "data": {
            "text/plain": [
              "505"
            ]
          },
          "metadata": {
            "tags": []
          },
          "execution_count": 5
        }
      ]
    },
    {
      "cell_type": "code",
      "metadata": {
        "id": "ZmIGnSTcSg3M",
        "colab_type": "code",
        "colab": {
          "base_uri": "https://localhost:8080/",
          "height": 35
        },
        "outputId": "d79cfd01-8e47-414f-8fbd-f4415f2eff03"
      },
      "source": [
        "## Selecting the data AAL\n",
        "df = data[data['Name']=='AAL']\n",
        "df.shape"
      ],
      "execution_count": 7,
      "outputs": [
        {
          "output_type": "execute_result",
          "data": {
            "text/plain": [
              "(1259, 7)"
            ]
          },
          "metadata": {
            "tags": []
          },
          "execution_count": 7
        }
      ]
    },
    {
      "cell_type": "code",
      "metadata": {
        "id": "R1sG9czsSYeY",
        "colab_type": "code",
        "colab": {
          "base_uri": "https://localhost:8080/",
          "height": 411
        },
        "outputId": "34165c07-4344-4939-ab24-aa40221f2088"
      },
      "source": [
        "#select the columns date and close price\n",
        "df = df[['date','close']]\n",
        "df"
      ],
      "execution_count": 8,
      "outputs": [
        {
          "output_type": "execute_result",
          "data": {
            "text/html": [
              "<div>\n",
              "<style scoped>\n",
              "    .dataframe tbody tr th:only-of-type {\n",
              "        vertical-align: middle;\n",
              "    }\n",
              "\n",
              "    .dataframe tbody tr th {\n",
              "        vertical-align: top;\n",
              "    }\n",
              "\n",
              "    .dataframe thead th {\n",
              "        text-align: right;\n",
              "    }\n",
              "</style>\n",
              "<table border=\"1\" class=\"dataframe\">\n",
              "  <thead>\n",
              "    <tr style=\"text-align: right;\">\n",
              "      <th></th>\n",
              "      <th>date</th>\n",
              "      <th>close</th>\n",
              "    </tr>\n",
              "  </thead>\n",
              "  <tbody>\n",
              "    <tr>\n",
              "      <th>0</th>\n",
              "      <td>2013-02-08</td>\n",
              "      <td>14.75</td>\n",
              "    </tr>\n",
              "    <tr>\n",
              "      <th>1</th>\n",
              "      <td>2013-02-11</td>\n",
              "      <td>14.46</td>\n",
              "    </tr>\n",
              "    <tr>\n",
              "      <th>2</th>\n",
              "      <td>2013-02-12</td>\n",
              "      <td>14.27</td>\n",
              "    </tr>\n",
              "    <tr>\n",
              "      <th>3</th>\n",
              "      <td>2013-02-13</td>\n",
              "      <td>14.66</td>\n",
              "    </tr>\n",
              "    <tr>\n",
              "      <th>4</th>\n",
              "      <td>2013-02-14</td>\n",
              "      <td>13.99</td>\n",
              "    </tr>\n",
              "    <tr>\n",
              "      <th>...</th>\n",
              "      <td>...</td>\n",
              "      <td>...</td>\n",
              "    </tr>\n",
              "    <tr>\n",
              "      <th>1254</th>\n",
              "      <td>2018-02-01</td>\n",
              "      <td>53.88</td>\n",
              "    </tr>\n",
              "    <tr>\n",
              "      <th>1255</th>\n",
              "      <td>2018-02-02</td>\n",
              "      <td>52.10</td>\n",
              "    </tr>\n",
              "    <tr>\n",
              "      <th>1256</th>\n",
              "      <td>2018-02-05</td>\n",
              "      <td>49.76</td>\n",
              "    </tr>\n",
              "    <tr>\n",
              "      <th>1257</th>\n",
              "      <td>2018-02-06</td>\n",
              "      <td>51.18</td>\n",
              "    </tr>\n",
              "    <tr>\n",
              "      <th>1258</th>\n",
              "      <td>2018-02-07</td>\n",
              "      <td>51.40</td>\n",
              "    </tr>\n",
              "  </tbody>\n",
              "</table>\n",
              "<p>1259 rows × 2 columns</p>\n",
              "</div>"
            ],
            "text/plain": [
              "            date  close\n",
              "0     2013-02-08  14.75\n",
              "1     2013-02-11  14.46\n",
              "2     2013-02-12  14.27\n",
              "3     2013-02-13  14.66\n",
              "4     2013-02-14  13.99\n",
              "...          ...    ...\n",
              "1254  2018-02-01  53.88\n",
              "1255  2018-02-02  52.10\n",
              "1256  2018-02-05  49.76\n",
              "1257  2018-02-06  51.18\n",
              "1258  2018-02-07  51.40\n",
              "\n",
              "[1259 rows x 2 columns]"
            ]
          },
          "metadata": {
            "tags": []
          },
          "execution_count": 8
        }
      ]
    },
    {
      "cell_type": "code",
      "metadata": {
        "id": "IIGqW7XWSdJQ",
        "colab_type": "code",
        "colab": {
          "base_uri": "https://localhost:8080/",
          "height": 284
        },
        "outputId": "269fc94c-1fbe-4ce5-b9ea-87b140732e41"
      },
      "source": [
        "# Line plot\n",
        "import matplotlib.pyplot as plt\n",
        "plt.plot(df['date'],df['close'])"
      ],
      "execution_count": 9,
      "outputs": [
        {
          "output_type": "execute_result",
          "data": {
            "text/plain": [
              "[<matplotlib.lines.Line2D at 0x7f919fd453c8>]"
            ]
          },
          "metadata": {
            "tags": []
          },
          "execution_count": 9
        },
        {
          "output_type": "display_data",
          "data": {
            "image/png": "[encoded data removed]",
            "text/plain": [
              "<Figure size 432x288 with 1 Axes>"
            ]
          },
          "metadata": {
            "tags": [],
            "needs_background": "light"
          }
        }
      ]
    },
    {
      "cell_type": "code",
      "metadata": {
        "id": "nAaHR728Smix",
        "colab_type": "code",
        "colab": {
          "base_uri": "https://localhost:8080/",
          "height": 212
        },
        "outputId": "26950147-589f-4791-8517-934f16bfc982"
      },
      "source": [
        "df.date[:10]"
      ],
      "execution_count": 10,
      "outputs": [
        {
          "output_type": "execute_result",
          "data": {
            "text/plain": [
              "0    2013-02-08\n",
              "1    2013-02-11\n",
              "2    2013-02-12\n",
              "3    2013-02-13\n",
              "4    2013-02-14\n",
              "5    2013-02-15\n",
              "6    2013-02-19\n",
              "7    2013-02-20\n",
              "8    2013-02-21\n",
              "9    2013-02-22\n",
              "Name: date, dtype: object"
            ]
          },
          "metadata": {
            "tags": []
          },
          "execution_count": 10
        }
      ]
    },
    {
      "cell_type": "code",
      "metadata": {
        "id": "D_FMTKjmSqlo",
        "colab_type": "code",
        "colab": {
          "base_uri": "https://localhost:8080/",
          "height": 70
        },
        "outputId": "0df7e323-348a-4f84-bc58-19ab0d27ffad"
      },
      "source": [
        "### Missing values in the data\n",
        "df.isnull().sum()"
      ],
      "execution_count": 11,
      "outputs": [
        {
          "output_type": "execute_result",
          "data": {
            "text/plain": [
              "date     0\n",
              "close    0\n",
              "dtype: int64"
            ]
          },
          "metadata": {
            "tags": []
          },
          "execution_count": 11
        }
      ]
    },
    {
      "cell_type": "code",
      "metadata": {
        "id": "Nwgquo-QS0G0",
        "colab_type": "code",
        "colab": {
          "base_uri": "https://localhost:8080/",
          "height": 284
        },
        "outputId": "5758da91-07dc-411e-aaa5-cccf0f73e7b8"
      },
      "source": [
        "# Preparing the data\n",
        "## Features and target\n",
        "## Input and output\n",
        "## last 7 days data as input\n",
        "## X -- [[d1-d7],[d9,d15],[d17,23]....]\n",
        "## y -- [d8,d16,d24,...]\n",
        "\n",
        "## X = [[d1-d7],[d2-d8],]\n",
        "## y = [d8,d9]\n",
        "X = [] ## input\n",
        "y = [] ## ouput\n",
        "for i  in range(df.shape[0]-7-1):   \n",
        "  X.append(df['close'][i:i+7])# 0 -->[0:7], 1-->[1:8]\n",
        "  y.append(df['close'][i+7])# 7,8,9\n",
        "print(X[:2])"
      ],
      "execution_count": 12,
      "outputs": [
        {
          "output_type": "stream",
          "text": [
            "[0    14.75\n",
            "1    14.46\n",
            "2    14.27\n",
            "3    14.66\n",
            "4    13.99\n",
            "5    14.50\n",
            "6    14.26\n",
            "Name: close, dtype: float64, 1    14.46\n",
            "2    14.27\n",
            "3    14.66\n",
            "4    13.99\n",
            "5    14.50\n",
            "6    14.26\n",
            "7    13.33\n",
            "Name: close, dtype: float64]\n"
          ],
          "name": "stdout"
        }
      ]
    },
    {
      "cell_type": "code",
      "metadata": {
        "id": "82u803szS2xj",
        "colab_type": "code",
        "colab": {}
      },
      "source": [
        "import numpy as np\n",
        "X = np.array(X)"
      ],
      "execution_count": 13,
      "outputs": []
    },
    {
      "cell_type": "code",
      "metadata": {
        "id": "MCS827acS6fx",
        "colab_type": "code",
        "colab": {
          "base_uri": "https://localhost:8080/",
          "height": 200
        },
        "outputId": "487cb709-925a-4ccf-eaeb-cb64270b724d"
      },
      "source": [
        "df1  = pd.DataFrame(X,columns=['d1','d2','d3','d4','d5','d6','d7'])\n",
        "df1.head()"
      ],
      "execution_count": 14,
      "outputs": [
        {
          "output_type": "execute_result",
          "data": {
            "text/html": [
              "<div>\n",
              "<style scoped>\n",
              "    .dataframe tbody tr th:only-of-type {\n",
              "        vertical-align: middle;\n",
              "    }\n",
              "\n",
              "    .dataframe tbody tr th {\n",
              "        vertical-align: top;\n",
              "    }\n",
              "\n",
              "    .dataframe thead th {\n",
              "        text-align: right;\n",
              "    }\n",
              "</style>\n",
              "<table border=\"1\" class=\"dataframe\">\n",
              "  <thead>\n",
              "    <tr style=\"text-align: right;\">\n",
              "      <th></th>\n",
              "      <th>d1</th>\n",
              "      <th>d2</th>\n",
              "      <th>d3</th>\n",
              "      <th>d4</th>\n",
              "      <th>d5</th>\n",
              "      <th>d6</th>\n",
              "      <th>d7</th>\n",
              "    </tr>\n",
              "  </thead>\n",
              "  <tbody>\n",
              "    <tr>\n",
              "      <th>0</th>\n",
              "      <td>14.75</td>\n",
              "      <td>14.46</td>\n",
              "      <td>14.27</td>\n",
              "      <td>14.66</td>\n",
              "      <td>13.99</td>\n",
              "      <td>14.50</td>\n",
              "      <td>14.26</td>\n",
              "    </tr>\n",
              "    <tr>\n",
              "      <th>1</th>\n",
              "      <td>14.46</td>\n",
              "      <td>14.27</td>\n",
              "      <td>14.66</td>\n",
              "      <td>13.99</td>\n",
              "      <td>14.50</td>\n",
              "      <td>14.26</td>\n",
              "      <td>13.33</td>\n",
              "    </tr>\n",
              "    <tr>\n",
              "      <th>2</th>\n",
              "      <td>14.27</td>\n",
              "      <td>14.66</td>\n",
              "      <td>13.99</td>\n",
              "      <td>14.50</td>\n",
              "      <td>14.26</td>\n",
              "      <td>13.33</td>\n",
              "      <td>13.37</td>\n",
              "    </tr>\n",
              "    <tr>\n",
              "      <th>3</th>\n",
              "      <td>14.66</td>\n",
              "      <td>13.99</td>\n",
              "      <td>14.50</td>\n",
              "      <td>14.26</td>\n",
              "      <td>13.33</td>\n",
              "      <td>13.37</td>\n",
              "      <td>13.57</td>\n",
              "    </tr>\n",
              "    <tr>\n",
              "      <th>4</th>\n",
              "      <td>13.99</td>\n",
              "      <td>14.50</td>\n",
              "      <td>14.26</td>\n",
              "      <td>13.33</td>\n",
              "      <td>13.37</td>\n",
              "      <td>13.57</td>\n",
              "      <td>13.02</td>\n",
              "    </tr>\n",
              "  </tbody>\n",
              "</table>\n",
              "</div>"
            ],
            "text/plain": [
              "      d1     d2     d3     d4     d5     d6     d7\n",
              "0  14.75  14.46  14.27  14.66  13.99  14.50  14.26\n",
              "1  14.46  14.27  14.66  13.99  14.50  14.26  13.33\n",
              "2  14.27  14.66  13.99  14.50  14.26  13.33  13.37\n",
              "3  14.66  13.99  14.50  14.26  13.33  13.37  13.57\n",
              "4  13.99  14.50  14.26  13.33  13.37  13.57  13.02"
            ]
          },
          "metadata": {
            "tags": []
          },
          "execution_count": 14
        }
      ]
    },
    {
      "cell_type": "code",
      "metadata": {
        "id": "nCWZagJ2S9Po",
        "colab_type": "code",
        "colab": {
          "base_uri": "https://localhost:8080/",
          "height": 200
        },
        "outputId": "db7a429f-c709-44a6-db15-515a6d40375f"
      },
      "source": [
        "df1['d8'] = y\n",
        "df1.head()"
      ],
      "execution_count": 15,
      "outputs": [
        {
          "output_type": "execute_result",
          "data": {
            "text/html": [
              "<div>\n",
              "<style scoped>\n",
              "    .dataframe tbody tr th:only-of-type {\n",
              "        vertical-align: middle;\n",
              "    }\n",
              "\n",
              "    .dataframe tbody tr th {\n",
              "        vertical-align: top;\n",
              "    }\n",
              "\n",
              "    .dataframe thead th {\n",
              "        text-align: right;\n",
              "    }\n",
              "</style>\n",
              "<table border=\"1\" class=\"dataframe\">\n",
              "  <thead>\n",
              "    <tr style=\"text-align: right;\">\n",
              "      <th></th>\n",
              "      <th>d1</th>\n",
              "      <th>d2</th>\n",
              "      <th>d3</th>\n",
              "      <th>d4</th>\n",
              "      <th>d5</th>\n",
              "      <th>d6</th>\n",
              "      <th>d7</th>\n",
              "      <th>d8</th>\n",
              "    </tr>\n",
              "  </thead>\n",
              "  <tbody>\n",
              "    <tr>\n",
              "      <th>0</th>\n",
              "      <td>14.75</td>\n",
              "      <td>14.46</td>\n",
              "      <td>14.27</td>\n",
              "      <td>14.66</td>\n",
              "      <td>13.99</td>\n",
              "      <td>14.50</td>\n",
              "      <td>14.26</td>\n",
              "      <td>13.33</td>\n",
              "    </tr>\n",
              "    <tr>\n",
              "      <th>1</th>\n",
              "      <td>14.46</td>\n",
              "      <td>14.27</td>\n",
              "      <td>14.66</td>\n",
              "      <td>13.99</td>\n",
              "      <td>14.50</td>\n",
              "      <td>14.26</td>\n",
              "      <td>13.33</td>\n",
              "      <td>13.37</td>\n",
              "    </tr>\n",
              "    <tr>\n",
              "      <th>2</th>\n",
              "      <td>14.27</td>\n",
              "      <td>14.66</td>\n",
              "      <td>13.99</td>\n",
              "      <td>14.50</td>\n",
              "      <td>14.26</td>\n",
              "      <td>13.33</td>\n",
              "      <td>13.37</td>\n",
              "      <td>13.57</td>\n",
              "    </tr>\n",
              "    <tr>\n",
              "      <th>3</th>\n",
              "      <td>14.66</td>\n",
              "      <td>13.99</td>\n",
              "      <td>14.50</td>\n",
              "      <td>14.26</td>\n",
              "      <td>13.33</td>\n",
              "      <td>13.37</td>\n",
              "      <td>13.57</td>\n",
              "      <td>13.02</td>\n",
              "    </tr>\n",
              "    <tr>\n",
              "      <th>4</th>\n",
              "      <td>13.99</td>\n",
              "      <td>14.50</td>\n",
              "      <td>14.26</td>\n",
              "      <td>13.33</td>\n",
              "      <td>13.37</td>\n",
              "      <td>13.57</td>\n",
              "      <td>13.02</td>\n",
              "      <td>13.26</td>\n",
              "    </tr>\n",
              "  </tbody>\n",
              "</table>\n",
              "</div>"
            ],
            "text/plain": [
              "      d1     d2     d3     d4     d5     d6     d7     d8\n",
              "0  14.75  14.46  14.27  14.66  13.99  14.50  14.26  13.33\n",
              "1  14.46  14.27  14.66  13.99  14.50  14.26  13.33  13.37\n",
              "2  14.27  14.66  13.99  14.50  14.26  13.33  13.37  13.57\n",
              "3  14.66  13.99  14.50  14.26  13.33  13.37  13.57  13.02\n",
              "4  13.99  14.50  14.26  13.33  13.37  13.57  13.02  13.26"
            ]
          },
          "metadata": {
            "tags": []
          },
          "execution_count": 15
        }
      ]
    },
    {
      "cell_type": "code",
      "metadata": {
        "id": "gJAuRgeyTAcj",
        "colab_type": "code",
        "colab": {
          "base_uri": "https://localhost:8080/",
          "height": 35
        },
        "outputId": "8cf0c37f-a223-4fb2-c36c-4993c5011380"
      },
      "source": [
        "df1.shape"
      ],
      "execution_count": 16,
      "outputs": [
        {
          "output_type": "execute_result",
          "data": {
            "text/plain": [
              "(1251, 8)"
            ]
          },
          "metadata": {
            "tags": []
          },
          "execution_count": 16
        }
      ]
    },
    {
      "cell_type": "code",
      "metadata": {
        "id": "aOuMWxeJTERo",
        "colab_type": "code",
        "colab": {
          "base_uri": "https://localhost:8080/",
          "height": 35
        },
        "outputId": "8215c641-a4c4-49aa-ce77-4e8ee344eb04"
      },
      "source": [
        "1251 * 0.8"
      ],
      "execution_count": 17,
      "outputs": [
        {
          "output_type": "execute_result",
          "data": {
            "text/plain": [
              "1000.8000000000001"
            ]
          },
          "metadata": {
            "tags": []
          },
          "execution_count": 17
        }
      ]
    },
    {
      "cell_type": "code",
      "metadata": {
        "id": "yFKzHqdKTIAt",
        "colab_type": "code",
        "colab": {
          "base_uri": "https://localhost:8080/",
          "height": 88
        },
        "outputId": "d1051094-8f86-4093-ef86-d1d828bf9e25"
      },
      "source": [
        "## Train test split\n",
        "X_train = df1.iloc[0:1000,0:7]\n",
        "X_test = df1.iloc[1000:,0:7]\n",
        "y_train =  df1['d8'][:1000]\n",
        "y_test  = df1['d8'][1000:]\n",
        "print(X_train.shape)\n",
        "print(y_train.shape)\n",
        "print(X_test.shape)\n",
        "print(y_test.shape)"
      ],
      "execution_count": 18,
      "outputs": [
        {
          "output_type": "stream",
          "text": [
            "(1000, 7)\n",
            "(1000,)\n",
            "(251, 7)\n",
            "(251,)\n"
          ],
          "name": "stdout"
        }
      ]
    },
    {
      "cell_type": "code",
      "metadata": {
        "id": "U__R9ywdTK6n",
        "colab_type": "code",
        "colab": {
          "base_uri": "https://localhost:8080/",
          "height": 291
        },
        "outputId": "7b8432be-e60a-421f-e09a-6a2fedf44dc2"
      },
      "source": [
        "## Sacling the data\n",
        "from sklearn.preprocessing import StandardScaler\n",
        "sc = StandardScaler()\n",
        "sc.fit(X_train)\n",
        "X_train_sc = pd.DataFrame(sc.transform(X_train),columns = X_train.columns)\n",
        "X_test_sc = pd.DataFrame(sc.transform(X_test),columns = X_train.columns)\n",
        "X_train_sc.describe()"
      ],
      "execution_count": 19,
      "outputs": [
        {
          "output_type": "execute_result",
          "data": {
            "text/html": [
              "<div>\n",
              "<style scoped>\n",
              "    .dataframe tbody tr th:only-of-type {\n",
              "        vertical-align: middle;\n",
              "    }\n",
              "\n",
              "    .dataframe tbody tr th {\n",
              "        vertical-align: top;\n",
              "    }\n",
              "\n",
              "    .dataframe thead th {\n",
              "        text-align: right;\n",
              "    }\n",
              "</style>\n",
              "<table border=\"1\" class=\"dataframe\">\n",
              "  <thead>\n",
              "    <tr style=\"text-align: right;\">\n",
              "      <th></th>\n",
              "      <th>d1</th>\n",
              "      <th>d2</th>\n",
              "      <th>d3</th>\n",
              "      <th>d4</th>\n",
              "      <th>d5</th>\n",
              "      <th>d6</th>\n",
              "      <th>d7</th>\n",
              "    </tr>\n",
              "  </thead>\n",
              "  <tbody>\n",
              "    <tr>\n",
              "      <th>count</th>\n",
              "      <td>1.000000e+03</td>\n",
              "      <td>1.000000e+03</td>\n",
              "      <td>1.000000e+03</td>\n",
              "      <td>1.000000e+03</td>\n",
              "      <td>1.000000e+03</td>\n",
              "      <td>1.000000e+03</td>\n",
              "      <td>1.000000e+03</td>\n",
              "    </tr>\n",
              "    <tr>\n",
              "      <th>mean</th>\n",
              "      <td>5.107026e-17</td>\n",
              "      <td>1.179057e-16</td>\n",
              "      <td>3.196332e-16</td>\n",
              "      <td>8.437695e-18</td>\n",
              "      <td>-2.058353e-16</td>\n",
              "      <td>6.408207e-16</td>\n",
              "      <td>3.573808e-16</td>\n",
              "    </tr>\n",
              "    <tr>\n",
              "      <th>std</th>\n",
              "      <td>1.000500e+00</td>\n",
              "      <td>1.000500e+00</td>\n",
              "      <td>1.000500e+00</td>\n",
              "      <td>1.000500e+00</td>\n",
              "      <td>1.000500e+00</td>\n",
              "      <td>1.000500e+00</td>\n",
              "      <td>1.000500e+00</td>\n",
              "    </tr>\n",
              "    <tr>\n",
              "      <th>min</th>\n",
              "      <td>-2.119798e+00</td>\n",
              "      <td>-2.125939e+00</td>\n",
              "      <td>-2.132307e+00</td>\n",
              "      <td>-2.138824e+00</td>\n",
              "      <td>-2.145197e+00</td>\n",
              "      <td>-2.151939e+00</td>\n",
              "      <td>-2.158392e+00</td>\n",
              "    </tr>\n",
              "    <tr>\n",
              "      <th>25%</th>\n",
              "      <td>-5.582080e-01</td>\n",
              "      <td>-5.486430e-01</td>\n",
              "      <td>-5.493180e-01</td>\n",
              "      <td>-5.516601e-01</td>\n",
              "      <td>-5.450605e-01</td>\n",
              "      <td>-5.350756e-01</td>\n",
              "      <td>-5.332242e-01</td>\n",
              "    </tr>\n",
              "    <tr>\n",
              "      <th>50%</th>\n",
              "      <td>2.659776e-01</td>\n",
              "      <td>2.649882e-01</td>\n",
              "      <td>2.640589e-01</td>\n",
              "      <td>2.640761e-01</td>\n",
              "      <td>2.641178e-01</td>\n",
              "      <td>2.631759e-01</td>\n",
              "      <td>2.621305e-01</td>\n",
              "    </tr>\n",
              "    <tr>\n",
              "      <th>75%</th>\n",
              "      <td>6.620601e-01</td>\n",
              "      <td>6.644832e-01</td>\n",
              "      <td>6.649275e-01</td>\n",
              "      <td>6.633158e-01</td>\n",
              "      <td>6.633343e-01</td>\n",
              "      <td>6.668651e-01</td>\n",
              "      <td>6.666995e-01</td>\n",
              "    </tr>\n",
              "    <tr>\n",
              "      <th>max</th>\n",
              "      <td>1.847059e+00</td>\n",
              "      <td>1.847165e+00</td>\n",
              "      <td>1.847513e+00</td>\n",
              "      <td>1.847976e+00</td>\n",
              "      <td>1.848369e+00</td>\n",
              "      <td>1.848914e+00</td>\n",
              "      <td>1.849089e+00</td>\n",
              "    </tr>\n",
              "  </tbody>\n",
              "</table>\n",
              "</div>"
            ],
            "text/plain": [
              "                 d1            d2  ...            d6            d7\n",
              "count  1.000000e+03  1.000000e+03  ...  1.000000e+03  1.000000e+03\n",
              "mean   5.107026e-17  1.179057e-16  ...  6.408207e-16  3.573808e-16\n",
              "std    1.000500e+00  1.000500e+00  ...  1.000500e+00  1.000500e+00\n",
              "min   -2.119798e+00 -2.125939e+00  ... -2.151939e+00 -2.158392e+00\n",
              "25%   -5.582080e-01 -5.486430e-01  ... -5.350756e-01 -5.332242e-01\n",
              "50%    2.659776e-01  2.649882e-01  ...  2.631759e-01  2.621305e-01\n",
              "75%    6.620601e-01  6.644832e-01  ...  6.668651e-01  6.666995e-01\n",
              "max    1.847059e+00  1.847165e+00  ...  1.848914e+00  1.849089e+00\n",
              "\n",
              "[8 rows x 7 columns]"
            ]
          },
          "metadata": {
            "tags": []
          },
          "execution_count": 19
        }
      ]
    },
    {
      "cell_type": "code",
      "metadata": {
        "id": "_oAQjyDJTODh",
        "colab_type": "code",
        "colab": {
          "base_uri": "https://localhost:8080/",
          "height": 248
        },
        "outputId": "cf9cd06d-396b-446c-b376-54837cd409f0"
      },
      "source": [
        "from keras.models import Sequential\n",
        "from keras.layers import Dense,Dropout,LSTM\n",
        "model = Sequential()\n",
        "# 256 cels\n",
        "model.add(LSTM(256,input_shape=(7,1)))\n",
        "# single neuron\n",
        "model.add(Dense(1))\n",
        "model.summary()"
      ],
      "execution_count": 20,
      "outputs": [
        {
          "output_type": "stream",
          "text": [
            "Using TensorFlow backend.\n"
          ],
          "name": "stderr"
        },
        {
          "output_type": "stream",
          "text": [
            "Model: \"sequential_1\"\n",
            "_________________________________________________________________\n",
            "Layer (type)                 Output Shape              Param #   \n",
            "=================================================================\n",
            "lstm_1 (LSTM)                (None, 256)               264192    \n",
            "_________________________________________________________________\n",
            "dense_1 (Dense)              (None, 1)                 257       \n",
            "=================================================================\n",
            "Total params: 264,449\n",
            "Trainable params: 264,449\n",
            "Non-trainable params: 0\n",
            "_________________________________________________________________\n"
          ],
          "name": "stdout"
        }
      ]
    },
    {
      "cell_type": "code",
      "metadata": {
        "id": "y6q_7Kj0TTfZ",
        "colab_type": "code",
        "colab": {}
      },
      "source": [
        "model.compile(optimizer='adam',loss='mse')"
      ],
      "execution_count": 21,
      "outputs": []
    },
    {
      "cell_type": "code",
      "metadata": {
        "id": "0wqkw5XyTYH3",
        "colab_type": "code",
        "colab": {
          "base_uri": "https://localhost:8080/",
          "height": 35
        },
        "outputId": "2a907a21-7f76-45b3-f07f-f8310b4752e7"
      },
      "source": [
        "X_test.shape"
      ],
      "execution_count": 22,
      "outputs": [
        {
          "output_type": "execute_result",
          "data": {
            "text/plain": [
              "(251, 7)"
            ]
          },
          "metadata": {
            "tags": []
          },
          "execution_count": 22
        }
      ]
    },
    {
      "cell_type": "code",
      "metadata": {
        "id": "6XFrGkxgTaSV",
        "colab_type": "code",
        "colab": {}
      },
      "source": [
        "# number of records , time steps,Features\n",
        "X_train_sc = X_train_sc.values.reshape(1000,7,1)\n",
        "X_test_sc = X_test_sc.values.reshape(251,7,1)"
      ],
      "execution_count": 23,
      "outputs": []
    },
    {
      "cell_type": "code",
      "metadata": {
        "id": "-CjmfcKPTdju",
        "colab_type": "code",
        "colab": {
          "base_uri": "https://localhost:8080/",
          "height": 1000
        },
        "outputId": "1971b1e9-4361-48a6-8ec3-7ae9ab98b266"
      },
      "source": [
        "history = model.fit(X_train_sc,y_train,epochs=100,validation_data=(X_test_sc,y_test))"
      ],
      "execution_count": 24,
      "outputs": [
        {
          "output_type": "stream",
          "text": [
            "Train on 1000 samples, validate on 251 samples\n",
            "Epoch 1/100\n",
            "1000/1000 [==============================] - 2s 2ms/step - loss: 1028.6733 - val_loss: 592.0199\n",
            "Epoch 2/100\n",
            "1000/1000 [==============================] - 1s 1ms/step - loss: 217.6934 - val_loss: 262.3862\n",
            "Epoch 3/100\n",
            "1000/1000 [==============================] - 1s 1ms/step - loss: 89.0877 - val_loss: 146.4730\n",
            "Epoch 4/100\n",
            "1000/1000 [==============================] - 1s 1ms/step - loss: 35.4184 - val_loss: 89.2507\n",
            "Epoch 5/100\n",
            "1000/1000 [==============================] - 1s 1ms/step - loss: 21.6146 - val_loss: 66.2895\n",
            "Epoch 6/100\n",
            "1000/1000 [==============================] - 1s 1ms/step - loss: 14.8703 - val_loss: 47.2587\n",
            "Epoch 7/100\n",
            "1000/1000 [==============================] - 1s 1ms/step - loss: 10.5847 - val_loss: 33.7802\n",
            "Epoch 8/100\n",
            "1000/1000 [==============================] - 1s 1ms/step - loss: 8.3852 - val_loss: 23.8534\n",
            "Epoch 9/100\n",
            "1000/1000 [==============================] - 1s 952us/step - loss: 7.0295 - val_loss: 20.1507\n",
            "Epoch 10/100\n",
            "1000/1000 [==============================] - 1s 951us/step - loss: 6.4196 - val_loss: 15.0769\n",
            "Epoch 11/100\n",
            "1000/1000 [==============================] - 1s 952us/step - loss: 5.5263 - val_loss: 13.1266\n",
            "Epoch 12/100\n",
            "1000/1000 [==============================] - 1s 947us/step - loss: 5.0178 - val_loss: 10.9563\n",
            "Epoch 13/100\n",
            "1000/1000 [==============================] - 1s 944us/step - loss: 5.1046 - val_loss: 9.6496\n",
            "Epoch 14/100\n",
            "1000/1000 [==============================] - 1s 945us/step - loss: 4.5221 - val_loss: 9.7893\n",
            "Epoch 15/100\n",
            "1000/1000 [==============================] - 1s 945us/step - loss: 4.8904 - val_loss: 9.4905\n",
            "Epoch 16/100\n",
            "1000/1000 [==============================] - 1s 958us/step - loss: 4.2158 - val_loss: 9.3863\n",
            "Epoch 17/100\n",
            "1000/1000 [==============================] - 1s 977us/step - loss: 4.2472 - val_loss: 7.1959\n",
            "Epoch 18/100\n",
            "1000/1000 [==============================] - 1s 971us/step - loss: 4.0278 - val_loss: 6.9330\n",
            "Epoch 19/100\n",
            "1000/1000 [==============================] - 1s 991us/step - loss: 4.1325 - val_loss: 7.4464\n",
            "Epoch 20/100\n",
            "1000/1000 [==============================] - 1s 1ms/step - loss: 4.2319 - val_loss: 6.5863\n",
            "Epoch 21/100\n",
            "1000/1000 [==============================] - 1s 1ms/step - loss: 4.0488 - val_loss: 6.8841\n",
            "Epoch 22/100\n",
            "1000/1000 [==============================] - 1s 974us/step - loss: 4.1519 - val_loss: 6.0818\n",
            "Epoch 23/100\n",
            "1000/1000 [==============================] - 1s 1ms/step - loss: 4.0230 - val_loss: 5.7531\n",
            "Epoch 24/100\n",
            "1000/1000 [==============================] - 1s 1ms/step - loss: 4.3734 - val_loss: 6.7591\n",
            "Epoch 25/100\n",
            "1000/1000 [==============================] - 1s 1ms/step - loss: 4.0251 - val_loss: 7.0824\n",
            "Epoch 26/100\n",
            "1000/1000 [==============================] - 1s 960us/step - loss: 4.0349 - val_loss: 5.7049\n",
            "Epoch 27/100\n",
            "1000/1000 [==============================] - 1s 953us/step - loss: 3.9433 - val_loss: 6.1097\n",
            "Epoch 28/100\n",
            "1000/1000 [==============================] - 1s 974us/step - loss: 3.8111 - val_loss: 5.9352\n",
            "Epoch 29/100\n",
            "1000/1000 [==============================] - 1s 1ms/step - loss: 3.9247 - val_loss: 5.4227\n",
            "Epoch 30/100\n",
            "1000/1000 [==============================] - 1s 952us/step - loss: 3.9213 - val_loss: 5.6265\n",
            "Epoch 31/100\n",
            "1000/1000 [==============================] - 1s 953us/step - loss: 3.7674 - val_loss: 7.4822\n",
            "Epoch 32/100\n",
            "1000/1000 [==============================] - 1s 963us/step - loss: 3.7759 - val_loss: 5.4510\n",
            "Epoch 33/100\n",
            "1000/1000 [==============================] - 1s 959us/step - loss: 4.0119 - val_loss: 5.4581\n",
            "Epoch 34/100\n",
            "1000/1000 [==============================] - 1s 942us/step - loss: 3.5898 - val_loss: 5.4328\n",
            "Epoch 35/100\n",
            "1000/1000 [==============================] - 1s 947us/step - loss: 3.6707 - val_loss: 6.6253\n",
            "Epoch 36/100\n",
            "1000/1000 [==============================] - 1s 968us/step - loss: 3.4498 - val_loss: 4.8801\n",
            "Epoch 37/100\n",
            "1000/1000 [==============================] - 1s 957us/step - loss: 3.5612 - val_loss: 5.6912\n",
            "Epoch 38/100\n",
            "1000/1000 [==============================] - 1s 963us/step - loss: 3.5794 - val_loss: 11.3526\n",
            "Epoch 39/100\n",
            "1000/1000 [==============================] - 1s 934us/step - loss: 3.6277 - val_loss: 4.8924\n",
            "Epoch 40/100\n",
            "1000/1000 [==============================] - 1s 978us/step - loss: 3.2504 - val_loss: 5.5604\n",
            "Epoch 41/100\n",
            "1000/1000 [==============================] - 1s 951us/step - loss: 3.1889 - val_loss: 7.4983\n",
            "Epoch 42/100\n",
            "1000/1000 [==============================] - 1s 949us/step - loss: 3.3505 - val_loss: 6.2544\n",
            "Epoch 43/100\n",
            "1000/1000 [==============================] - 1s 947us/step - loss: 3.0498 - val_loss: 9.6857\n",
            "Epoch 44/100\n",
            "1000/1000 [==============================] - 1s 948us/step - loss: 3.0415 - val_loss: 6.6978\n",
            "Epoch 45/100\n",
            "1000/1000 [==============================] - 1s 941us/step - loss: 3.3334 - val_loss: 4.2361\n",
            "Epoch 46/100\n",
            "1000/1000 [==============================] - 1s 949us/step - loss: 2.8049 - val_loss: 4.1199\n",
            "Epoch 47/100\n",
            "1000/1000 [==============================] - 1s 985us/step - loss: 2.7540 - val_loss: 4.2373\n",
            "Epoch 48/100\n",
            "1000/1000 [==============================] - 1s 965us/step - loss: 2.6459 - val_loss: 4.0410\n",
            "Epoch 49/100\n",
            "1000/1000 [==============================] - 1s 962us/step - loss: 2.6164 - val_loss: 3.8826\n",
            "Epoch 50/100\n",
            "1000/1000 [==============================] - 1s 975us/step - loss: 2.4854 - val_loss: 3.8613\n",
            "Epoch 51/100\n",
            "1000/1000 [==============================] - 1s 941us/step - loss: 2.6937 - val_loss: 3.7666\n",
            "Epoch 52/100\n",
            "1000/1000 [==============================] - 1s 963us/step - loss: 2.6445 - val_loss: 4.3637\n",
            "Epoch 53/100\n",
            "1000/1000 [==============================] - 1s 1ms/step - loss: 2.8967 - val_loss: 3.4399\n",
            "Epoch 54/100\n",
            "1000/1000 [==============================] - 1s 1ms/step - loss: 2.1752 - val_loss: 4.5276\n",
            "Epoch 55/100\n",
            "1000/1000 [==============================] - 1s 1ms/step - loss: 2.2491 - val_loss: 3.9793\n",
            "Epoch 56/100\n",
            "1000/1000 [==============================] - 1s 1ms/step - loss: 2.3011 - val_loss: 4.2072\n",
            "Epoch 57/100\n",
            "1000/1000 [==============================] - 1s 1ms/step - loss: 2.2565 - val_loss: 3.8340\n",
            "Epoch 58/100\n",
            "1000/1000 [==============================] - 1s 953us/step - loss: 2.2360 - val_loss: 3.9377\n",
            "Epoch 59/100\n",
            "1000/1000 [==============================] - 1s 967us/step - loss: 2.3097 - val_loss: 2.9305\n",
            "Epoch 60/100\n",
            "1000/1000 [==============================] - 1s 965us/step - loss: 3.2014 - val_loss: 5.9469\n",
            "Epoch 61/100\n",
            "1000/1000 [==============================] - 1s 963us/step - loss: 2.8496 - val_loss: 7.1382\n",
            "Epoch 62/100\n",
            "1000/1000 [==============================] - 1s 967us/step - loss: 2.7887 - val_loss: 3.3015\n",
            "Epoch 63/100\n",
            "1000/1000 [==============================] - 1s 1ms/step - loss: 2.0719 - val_loss: 3.1867\n",
            "Epoch 64/100\n",
            "1000/1000 [==============================] - 1s 962us/step - loss: 1.8876 - val_loss: 2.9101\n",
            "Epoch 65/100\n",
            "1000/1000 [==============================] - 1s 947us/step - loss: 1.8849 - val_loss: 2.8551\n",
            "Epoch 66/100\n",
            "1000/1000 [==============================] - 1s 964us/step - loss: 1.8309 - val_loss: 2.7597\n",
            "Epoch 67/100\n",
            "1000/1000 [==============================] - 1s 946us/step - loss: 1.8089 - val_loss: 2.7441\n",
            "Epoch 68/100\n",
            "1000/1000 [==============================] - 1s 964us/step - loss: 2.1259 - val_loss: 2.5013\n",
            "Epoch 69/100\n",
            "1000/1000 [==============================] - 1s 968us/step - loss: 1.8865 - val_loss: 2.5078\n",
            "Epoch 70/100\n",
            "1000/1000 [==============================] - 1s 940us/step - loss: 1.7686 - val_loss: 2.4208\n",
            "Epoch 71/100\n",
            "1000/1000 [==============================] - 1s 1ms/step - loss: 1.6849 - val_loss: 2.4046\n",
            "Epoch 72/100\n",
            "1000/1000 [==============================] - 1s 968us/step - loss: 1.7010 - val_loss: 2.8363\n",
            "Epoch 73/100\n",
            "1000/1000 [==============================] - 1s 970us/step - loss: 1.6907 - val_loss: 2.2203\n",
            "Epoch 74/100\n",
            "1000/1000 [==============================] - 1s 961us/step - loss: 1.8421 - val_loss: 2.1835\n",
            "Epoch 75/100\n",
            "1000/1000 [==============================] - 1s 1ms/step - loss: 1.7361 - val_loss: 2.4245\n",
            "Epoch 76/100\n",
            "1000/1000 [==============================] - 1s 1ms/step - loss: 1.8387 - val_loss: 2.3476\n",
            "Epoch 77/100\n",
            "1000/1000 [==============================] - 1s 984us/step - loss: 1.6388 - val_loss: 2.1638\n",
            "Epoch 78/100\n",
            "1000/1000 [==============================] - 1s 947us/step - loss: 1.6106 - val_loss: 2.2295\n",
            "Epoch 79/100\n",
            "1000/1000 [==============================] - 1s 955us/step - loss: 1.6196 - val_loss: 2.1962\n",
            "Epoch 80/100\n",
            "1000/1000 [==============================] - 1s 953us/step - loss: 1.6844 - val_loss: 2.5551\n",
            "Epoch 81/100\n",
            "1000/1000 [==============================] - 1s 951us/step - loss: 1.6476 - val_loss: 2.1049\n",
            "Epoch 82/100\n",
            "1000/1000 [==============================] - 1s 1ms/step - loss: 1.7741 - val_loss: 3.5938\n",
            "Epoch 83/100\n",
            "1000/1000 [==============================] - 1s 1ms/step - loss: 1.8261 - val_loss: 1.9105\n",
            "Epoch 84/100\n",
            "1000/1000 [==============================] - 1s 974us/step - loss: 1.5024 - val_loss: 1.9389\n",
            "Epoch 85/100\n",
            "1000/1000 [==============================] - 1s 1ms/step - loss: 1.5859 - val_loss: 1.8610\n",
            "Epoch 86/100\n",
            "1000/1000 [==============================] - 1s 950us/step - loss: 1.4881 - val_loss: 2.0067\n",
            "Epoch 87/100\n",
            "1000/1000 [==============================] - 1s 1ms/step - loss: 1.4937 - val_loss: 2.7120\n",
            "Epoch 88/100\n",
            "1000/1000 [==============================] - 1s 941us/step - loss: 1.4677 - val_loss: 1.8075\n",
            "Epoch 89/100\n",
            "1000/1000 [==============================] - 1s 957us/step - loss: 1.4700 - val_loss: 2.1529\n",
            "Epoch 90/100\n",
            "1000/1000 [==============================] - 1s 952us/step - loss: 1.4873 - val_loss: 1.8133\n",
            "Epoch 91/100\n",
            "1000/1000 [==============================] - 1s 959us/step - loss: 1.4381 - val_loss: 2.2244\n",
            "Epoch 92/100\n",
            "1000/1000 [==============================] - 1s 950us/step - loss: 1.4168 - val_loss: 2.3981\n",
            "Epoch 93/100\n",
            "1000/1000 [==============================] - 1s 1ms/step - loss: 1.4204 - val_loss: 1.7799\n",
            "Epoch 94/100\n",
            "1000/1000 [==============================] - 1s 956us/step - loss: 1.4022 - val_loss: 1.7733\n",
            "Epoch 95/100\n",
            "1000/1000 [==============================] - 1s 954us/step - loss: 1.4349 - val_loss: 1.8660\n",
            "Epoch 96/100\n",
            "1000/1000 [==============================] - 1s 968us/step - loss: 1.3264 - val_loss: 1.6014\n",
            "Epoch 97/100\n",
            "1000/1000 [==============================] - 1s 947us/step - loss: 1.3026 - val_loss: 1.7283\n",
            "Epoch 98/100\n",
            "1000/1000 [==============================] - 1s 986us/step - loss: 1.5074 - val_loss: 2.0724\n",
            "Epoch 99/100\n",
            "1000/1000 [==============================] - 1s 941us/step - loss: 1.5898 - val_loss: 1.9919\n",
            "Epoch 100/100\n",
            "1000/1000 [==============================] - 1s 1ms/step - loss: 1.3457 - val_loss: 1.9722\n"
          ],
          "name": "stdout"
        }
      ]
    },
    {
      "cell_type": "code",
      "metadata": {
        "id": "jwutWVh3ThbD",
        "colab_type": "code",
        "colab": {
          "base_uri": "https://localhost:8080/",
          "height": 141
        },
        "outputId": "ca1baa9f-314c-47ba-b8d8-de5a42825b88"
      },
      "source": [
        "X_test_sc[0].reshape(1,7,1)"
      ],
      "execution_count": 26,
      "outputs": [
        {
          "output_type": "execute_result",
          "data": {
            "text/plain": [
              "array([[[0.83910218],\n",
              "        [0.77719701],\n",
              "        [0.75711333],\n",
              "        [0.75193205],\n",
              "        [0.7682191 ],\n",
              "        [0.86976278],\n",
              "        [0.85612661]]])"
            ]
          },
          "metadata": {
            "tags": []
          },
          "execution_count": 26
        }
      ]
    },
    {
      "cell_type": "code",
      "metadata": {
        "id": "atzEd8B2UEU4",
        "colab_type": "code",
        "colab": {
          "base_uri": "https://localhost:8080/",
          "height": 35
        },
        "outputId": "aa75f2a0-3b8b-4966-eda4-eec81db2410b"
      },
      "source": [
        "model.predict(X_test_sc[0].reshape(1,7,1))"
      ],
      "execution_count": 27,
      "outputs": [
        {
          "output_type": "execute_result",
          "data": {
            "text/plain": [
              "array([[44.611668]], dtype=float32)"
            ]
          },
          "metadata": {
            "tags": []
          },
          "execution_count": 27
        }
      ]
    },
    {
      "cell_type": "code",
      "metadata": {
        "id": "OS0PUtL_UTzb",
        "colab_type": "code",
        "colab": {
          "base_uri": "https://localhost:8080/",
          "height": 35
        },
        "outputId": "68135618-83ec-4a61-80a9-12f4a5849e67"
      },
      "source": [
        "y_test[1000]"
      ],
      "execution_count": 28,
      "outputs": [
        {
          "output_type": "execute_result",
          "data": {
            "text/plain": [
              "45.06"
            ]
          },
          "metadata": {
            "tags": []
          },
          "execution_count": 28
        }
      ]
    },
    {
      "cell_type": "code",
      "metadata": {
        "id": "5CNJg3bwUWDr",
        "colab_type": "code",
        "colab": {
          "base_uri": "https://localhost:8080/",
          "height": 266
        },
        "outputId": "439e18ec-b1a0-4361-8369-a7971368da6d"
      },
      "source": [
        "from keras.models import Sequential\n",
        "from keras.layers import Dense,Dropout,LSTM\n",
        "model2 = Sequential()\n",
        "# 256 cels\n",
        "model2.add(LSTM(256,input_shape=(7,1)))\n",
        "model2.add(Dropout(0.3))\n",
        "# single neuron\n",
        "model2.add(Dense(1))\n",
        "model2.summary()"
      ],
      "execution_count": 29,
      "outputs": [
        {
          "output_type": "stream",
          "text": [
            "Model: \"sequential_2\"\n",
            "_________________________________________________________________\n",
            "Layer (type)                 Output Shape              Param #   \n",
            "=================================================================\n",
            "lstm_2 (LSTM)                (None, 256)               264192    \n",
            "_________________________________________________________________\n",
            "dropout_1 (Dropout)          (None, 256)               0         \n",
            "_________________________________________________________________\n",
            "dense_2 (Dense)              (None, 1)                 257       \n",
            "=================================================================\n",
            "Total params: 264,449\n",
            "Trainable params: 264,449\n",
            "Non-trainable params: 0\n",
            "_________________________________________________________________\n"
          ],
          "name": "stdout"
        }
      ]
    },
    {
      "cell_type": "code",
      "metadata": {
        "id": "9Y3k25kyUbMh",
        "colab_type": "code",
        "colab": {}
      },
      "source": [
        "model2.compile(optimizer='adam',loss='mse')"
      ],
      "execution_count": 30,
      "outputs": []
    },
    {
      "cell_type": "code",
      "metadata": {
        "id": "fqv9HFN5Uecm",
        "colab_type": "code",
        "colab": {
          "base_uri": "https://localhost:8080/",
          "height": 1000
        },
        "outputId": "f1826693-c7e5-49f5-ad1d-4362e86cf380"
      },
      "source": [
        "history2 = model2.fit(X_train_sc,y_train,epochs=100,validation_data=(X_test_sc,y_test))"
      ],
      "execution_count": 31,
      "outputs": [
        {
          "output_type": "stream",
          "text": [
            "Train on 1000 samples, validate on 251 samples\n",
            "Epoch 1/100\n",
            "1000/1000 [==============================] - 1s 1ms/step - loss: 1022.6150 - val_loss: 582.6986\n",
            "Epoch 2/100\n",
            "1000/1000 [==============================] - 1s 966us/step - loss: 236.5264 - val_loss: 258.1837\n",
            "Epoch 3/100\n",
            "1000/1000 [==============================] - 1s 955us/step - loss: 118.4317 - val_loss: 176.4539\n",
            "Epoch 4/100\n",
            "1000/1000 [==============================] - 1s 952us/step - loss: 116.2322 - val_loss: 160.9044\n",
            "Epoch 5/100\n",
            "1000/1000 [==============================] - 1s 957us/step - loss: 116.3296 - val_loss: 166.9260\n",
            "Epoch 6/100\n",
            "1000/1000 [==============================] - 1s 954us/step - loss: 115.4220 - val_loss: 163.6781\n",
            "Epoch 7/100\n",
            "1000/1000 [==============================] - 1s 990us/step - loss: 113.7763 - val_loss: 163.6233\n",
            "Epoch 8/100\n",
            "1000/1000 [==============================] - 1s 985us/step - loss: 114.8846 - val_loss: 164.1227\n",
            "Epoch 9/100\n",
            "1000/1000 [==============================] - 1s 965us/step - loss: 115.7274 - val_loss: 159.8352\n",
            "Epoch 10/100\n",
            "1000/1000 [==============================] - 1s 989us/step - loss: 112.6662 - val_loss: 162.1423\n",
            "Epoch 11/100\n",
            "1000/1000 [==============================] - 1s 960us/step - loss: 114.2234 - val_loss: 159.8573\n",
            "Epoch 12/100\n",
            "1000/1000 [==============================] - 1s 1ms/step - loss: 110.8743 - val_loss: 157.0223\n",
            "Epoch 13/100\n",
            "1000/1000 [==============================] - 1s 987us/step - loss: 106.0623 - val_loss: 152.6776\n",
            "Epoch 14/100\n",
            "1000/1000 [==============================] - 1s 1ms/step - loss: 85.8930 - val_loss: 131.3246\n",
            "Epoch 15/100\n",
            "1000/1000 [==============================] - 1s 957us/step - loss: 25.9566 - val_loss: 58.0946\n",
            "Epoch 16/100\n",
            "1000/1000 [==============================] - 1s 1ms/step - loss: 15.2709 - val_loss: 33.3356\n",
            "Epoch 17/100\n",
            "1000/1000 [==============================] - 1s 949us/step - loss: 11.0672 - val_loss: 24.0776\n",
            "Epoch 18/100\n",
            "1000/1000 [==============================] - 1s 1ms/step - loss: 9.9526 - val_loss: 17.8214\n",
            "Epoch 19/100\n",
            "1000/1000 [==============================] - 1s 953us/step - loss: 9.0996 - val_loss: 13.7204\n",
            "Epoch 20/100\n",
            "1000/1000 [==============================] - 1s 982us/step - loss: 8.2149 - val_loss: 11.5637\n",
            "Epoch 21/100\n",
            "1000/1000 [==============================] - 1s 942us/step - loss: 8.3716 - val_loss: 11.1636\n",
            "Epoch 22/100\n",
            "1000/1000 [==============================] - 1s 952us/step - loss: 7.6824 - val_loss: 10.2775\n",
            "Epoch 23/100\n",
            "1000/1000 [==============================] - 1s 982us/step - loss: 7.1808 - val_loss: 8.2476\n",
            "Epoch 24/100\n",
            "1000/1000 [==============================] - 1s 959us/step - loss: 7.6347 - val_loss: 7.9237\n",
            "Epoch 25/100\n",
            "1000/1000 [==============================] - 1s 970us/step - loss: 7.3405 - val_loss: 8.2736\n",
            "Epoch 26/100\n",
            "1000/1000 [==============================] - 1s 970us/step - loss: 7.5207 - val_loss: 8.1730\n",
            "Epoch 27/100\n",
            "1000/1000 [==============================] - 1s 1ms/step - loss: 7.2506 - val_loss: 7.2000\n",
            "Epoch 28/100\n",
            "1000/1000 [==============================] - 1s 1ms/step - loss: 7.3248 - val_loss: 9.3921\n",
            "Epoch 29/100\n",
            "1000/1000 [==============================] - 1s 1ms/step - loss: 7.2639 - val_loss: 9.8866\n",
            "Epoch 30/100\n",
            "1000/1000 [==============================] - 1s 974us/step - loss: 7.0332 - val_loss: 7.2767\n",
            "Epoch 31/100\n",
            "1000/1000 [==============================] - 1s 974us/step - loss: 7.6565 - val_loss: 6.7595\n",
            "Epoch 32/100\n",
            "1000/1000 [==============================] - 1s 971us/step - loss: 7.2868 - val_loss: 7.4178\n",
            "Epoch 33/100\n",
            "1000/1000 [==============================] - 1s 973us/step - loss: 7.2218 - val_loss: 6.6813\n",
            "Epoch 34/100\n",
            "1000/1000 [==============================] - 1s 972us/step - loss: 7.6455 - val_loss: 6.4393\n",
            "Epoch 35/100\n",
            "1000/1000 [==============================] - 1s 970us/step - loss: 7.4660 - val_loss: 6.3426\n",
            "Epoch 36/100\n",
            "1000/1000 [==============================] - 1s 976us/step - loss: 7.2663 - val_loss: 5.9755\n",
            "Epoch 37/100\n",
            "1000/1000 [==============================] - 1s 987us/step - loss: 7.9331 - val_loss: 6.1460\n",
            "Epoch 38/100\n",
            "1000/1000 [==============================] - 1s 987us/step - loss: 7.5246 - val_loss: 5.9106\n",
            "Epoch 39/100\n",
            "1000/1000 [==============================] - 1s 989us/step - loss: 7.5268 - val_loss: 6.0692\n",
            "Epoch 40/100\n",
            "1000/1000 [==============================] - 1s 972us/step - loss: 7.4645 - val_loss: 5.7436\n",
            "Epoch 41/100\n",
            "1000/1000 [==============================] - 1s 965us/step - loss: 6.8775 - val_loss: 5.8388\n",
            "Epoch 42/100\n",
            "1000/1000 [==============================] - 1s 1ms/step - loss: 7.3232 - val_loss: 6.2135\n",
            "Epoch 43/100\n",
            "1000/1000 [==============================] - 1s 1ms/step - loss: 7.2064 - val_loss: 9.1527\n",
            "Epoch 44/100\n",
            "1000/1000 [==============================] - 1s 1ms/step - loss: 7.5406 - val_loss: 5.9647\n",
            "Epoch 45/100\n",
            "1000/1000 [==============================] - 1s 1ms/step - loss: 6.6459 - val_loss: 5.7908\n",
            "Epoch 46/100\n",
            "1000/1000 [==============================] - 1s 966us/step - loss: 6.2161 - val_loss: 5.9032\n",
            "Epoch 47/100\n",
            "1000/1000 [==============================] - 1s 998us/step - loss: 6.6824 - val_loss: 5.6824\n",
            "Epoch 48/100\n",
            "1000/1000 [==============================] - 1s 956us/step - loss: 6.8417 - val_loss: 5.3370\n",
            "Epoch 49/100\n",
            "1000/1000 [==============================] - 1s 958us/step - loss: 7.1280 - val_loss: 7.0886\n",
            "Epoch 50/100\n",
            "1000/1000 [==============================] - 1s 979us/step - loss: 6.6136 - val_loss: 5.3501\n",
            "Epoch 51/100\n",
            "1000/1000 [==============================] - 1s 952us/step - loss: 6.8533 - val_loss: 5.6593\n",
            "Epoch 52/100\n",
            "1000/1000 [==============================] - 1s 966us/step - loss: 6.7745 - val_loss: 5.9273\n",
            "Epoch 53/100\n",
            "1000/1000 [==============================] - 1s 955us/step - loss: 7.2012 - val_loss: 4.9933\n",
            "Epoch 54/100\n",
            "1000/1000 [==============================] - 1s 970us/step - loss: 6.6272 - val_loss: 7.3657\n",
            "Epoch 55/100\n",
            "1000/1000 [==============================] - 1s 966us/step - loss: 6.6271 - val_loss: 5.2085\n",
            "Epoch 56/100\n",
            "1000/1000 [==============================] - 1s 957us/step - loss: 6.5926 - val_loss: 5.6772\n",
            "Epoch 57/100\n",
            "1000/1000 [==============================] - 1s 969us/step - loss: 6.8613 - val_loss: 5.0411\n",
            "Epoch 58/100\n",
            "1000/1000 [==============================] - 1s 964us/step - loss: 6.8916 - val_loss: 4.6610\n",
            "Epoch 59/100\n",
            "1000/1000 [==============================] - 1s 1ms/step - loss: 6.2041 - val_loss: 4.7158\n",
            "Epoch 60/100\n",
            "1000/1000 [==============================] - 1s 1ms/step - loss: 6.1856 - val_loss: 4.6566\n",
            "Epoch 61/100\n",
            "1000/1000 [==============================] - 1s 1ms/step - loss: 6.8161 - val_loss: 8.3585\n",
            "Epoch 62/100\n",
            "1000/1000 [==============================] - 1s 1ms/step - loss: 6.2573 - val_loss: 4.8362\n",
            "Epoch 63/100\n",
            "1000/1000 [==============================] - 1s 966us/step - loss: 6.3921 - val_loss: 4.8257\n",
            "Epoch 64/100\n",
            "1000/1000 [==============================] - 1s 979us/step - loss: 5.9749 - val_loss: 4.9837\n",
            "Epoch 65/100\n",
            "1000/1000 [==============================] - 1s 962us/step - loss: 6.2474 - val_loss: 5.1665\n",
            "Epoch 66/100\n",
            "1000/1000 [==============================] - 1s 971us/step - loss: 5.7759 - val_loss: 4.2172\n",
            "Epoch 67/100\n",
            "1000/1000 [==============================] - 1s 975us/step - loss: 5.9268 - val_loss: 6.3533\n",
            "Epoch 68/100\n",
            "1000/1000 [==============================] - 1s 1ms/step - loss: 5.6124 - val_loss: 5.9679\n",
            "Epoch 69/100\n",
            "1000/1000 [==============================] - 1s 1ms/step - loss: 6.0769 - val_loss: 4.8248\n",
            "Epoch 70/100\n",
            "1000/1000 [==============================] - 1s 995us/step - loss: 6.2022 - val_loss: 3.9044\n",
            "Epoch 71/100\n",
            "1000/1000 [==============================] - 1s 991us/step - loss: 5.9971 - val_loss: 3.9190\n",
            "Epoch 72/100\n",
            "1000/1000 [==============================] - 1s 1ms/step - loss: 5.1376 - val_loss: 4.6124\n",
            "Epoch 73/100\n",
            "1000/1000 [==============================] - 1s 1ms/step - loss: 5.9762 - val_loss: 5.6606\n",
            "Epoch 74/100\n",
            "1000/1000 [==============================] - 1s 1ms/step - loss: 5.4738 - val_loss: 4.7749\n",
            "Epoch 75/100\n",
            "1000/1000 [==============================] - 1s 1ms/step - loss: 5.1882 - val_loss: 3.5776\n",
            "Epoch 76/100\n",
            "1000/1000 [==============================] - 1s 981us/step - loss: 6.1086 - val_loss: 3.3107\n",
            "Epoch 77/100\n",
            "1000/1000 [==============================] - 1s 972us/step - loss: 5.1561 - val_loss: 3.4052\n",
            "Epoch 78/100\n",
            "1000/1000 [==============================] - 1s 999us/step - loss: 5.1202 - val_loss: 3.4910\n",
            "Epoch 79/100\n",
            "1000/1000 [==============================] - 1s 1ms/step - loss: 4.8320 - val_loss: 3.7440\n",
            "Epoch 80/100\n",
            "1000/1000 [==============================] - 1s 1ms/step - loss: 4.6182 - val_loss: 5.5228\n",
            "Epoch 81/100\n",
            "1000/1000 [==============================] - 1s 960us/step - loss: 5.9020 - val_loss: 3.8389\n",
            "Epoch 82/100\n",
            "1000/1000 [==============================] - 1s 950us/step - loss: 5.1939 - val_loss: 3.5315\n",
            "Epoch 83/100\n",
            "1000/1000 [==============================] - 1s 977us/step - loss: 4.9388 - val_loss: 3.6691\n",
            "Epoch 84/100\n",
            "1000/1000 [==============================] - 1s 993us/step - loss: 4.6526 - val_loss: 4.9790\n",
            "Epoch 85/100\n",
            "1000/1000 [==============================] - 1s 992us/step - loss: 4.9522 - val_loss: 4.2981\n",
            "Epoch 86/100\n",
            "1000/1000 [==============================] - 1s 968us/step - loss: 5.0722 - val_loss: 3.2189\n",
            "Epoch 87/100\n",
            "1000/1000 [==============================] - 1s 1ms/step - loss: 4.4705 - val_loss: 2.5857\n",
            "Epoch 88/100\n",
            "1000/1000 [==============================] - 1s 1ms/step - loss: 4.7248 - val_loss: 2.9604\n",
            "Epoch 89/100\n",
            "1000/1000 [==============================] - 1s 1ms/step - loss: 4.5012 - val_loss: 2.7463\n",
            "Epoch 90/100\n",
            "1000/1000 [==============================] - 1s 1ms/step - loss: 5.1269 - val_loss: 3.0968\n",
            "Epoch 91/100\n",
            "1000/1000 [==============================] - 1s 970us/step - loss: 4.7760 - val_loss: 2.8249\n",
            "Epoch 92/100\n",
            "1000/1000 [==============================] - 1s 959us/step - loss: 4.7564 - val_loss: 2.7036\n",
            "Epoch 93/100\n",
            "1000/1000 [==============================] - 1s 982us/step - loss: 4.6620 - val_loss: 3.0600\n",
            "Epoch 94/100\n",
            "1000/1000 [==============================] - 1s 944us/step - loss: 4.8534 - val_loss: 2.3881\n",
            "Epoch 95/100\n",
            "1000/1000 [==============================] - 1s 951us/step - loss: 4.5996 - val_loss: 3.1996\n",
            "Epoch 96/100\n",
            "1000/1000 [==============================] - 1s 997us/step - loss: 4.5389 - val_loss: 2.2854\n",
            "Epoch 97/100\n",
            "1000/1000 [==============================] - 1s 1ms/step - loss: 5.5116 - val_loss: 2.1531\n",
            "Epoch 98/100\n",
            "1000/1000 [==============================] - 1s 981us/step - loss: 4.4910 - val_loss: 2.4084\n",
            "Epoch 99/100\n",
            "1000/1000 [==============================] - 1s 1ms/step - loss: 4.5184 - val_loss: 3.1807\n",
            "Epoch 100/100\n",
            "1000/1000 [==============================] - 1s 954us/step - loss: 5.6138 - val_loss: 2.2770\n"
          ],
          "name": "stdout"
        }
      ]
    },
    {
      "cell_type": "code",
      "metadata": {
        "id": "c8i7H7cfUh0R",
        "colab_type": "code",
        "colab": {
          "base_uri": "https://localhost:8080/",
          "height": 283
        },
        "outputId": "c1521911-e3b3-4722-d2a7-452c44f77a1b"
      },
      "source": [
        "tr_loss = history2.history['loss']\n",
        "val_loss = history2.history['val_loss']\n",
        "ep = list(range(1,101))\n",
        "plt.plot(ep,tr_loss,color='r')\n",
        "plt.plot(ep,val_loss,color='b')"
      ],
      "execution_count": 32,
      "outputs": [
        {
          "output_type": "execute_result",
          "data": {
            "text/plain": [
              "[<matplotlib.lines.Line2D at 0x7f914b99b828>]"
            ]
          },
          "metadata": {
            "tags": []
          },
          "execution_count": 32
        },
        {
          "output_type": "display_data",
          "data": {
            "image/png": "[encoded data removed]",
            "text/plain": [
              "<Figure size 432x288 with 1 Axes>"
            ]
          },
          "metadata": {
            "tags": [],
            "needs_background": "light"
          }
        }
      ]
    },
    {
      "cell_type": "markdown",
      "metadata": {
        "id": "9opLbxPJVLrE",
        "colab_type": "text"
      },
      "source": [
        "### Get the data\n",
        "### what is the target\n",
        "### Take the target and observe downtrend or uptrend\n",
        "### Craete input(features) and ouputs(target)\n",
        "### Train_test_split\n",
        "### Apply scaling if it required\n",
        "### Reshape the inputs\n",
        "### Create a Model\n",
        "### Compile the model with the proper optimizer and loss\n",
        "### Metrics =['mse','mae']\n",
        "### Evaluate the model with test data\n",
        "### compare the results\n",
        "### Check for overfitting and underfitting\n",
        "### If It is an overfitted model apply dropout. or check another model\n",
        "\n",
        "### Check raw data"
      ]
    },
    {
      "cell_type": "code",
      "metadata": {
        "id": "XQWwAI4mVFhr",
        "colab_type": "code",
        "colab": {}
      },
      "source": [
        ""
      ],
      "execution_count": null,
      "outputs": []
    }
  ]
}